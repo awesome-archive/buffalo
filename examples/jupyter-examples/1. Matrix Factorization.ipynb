{
 "cells": [
  {
   "cell_type": "markdown",
   "metadata": {},
   "source": [
    "## 1. Matrix Factorization\n",
    "In this notebook, we show how to run [ALS](http://yifanhu.net/PUB/cf.pdf) and [BPR-MF](https://arxiv.org/pdf/1205.2618.pdf) with Buffalo"
   ]
  },
  {
   "cell_type": "code",
   "execution_count": 1,
   "metadata": {},
   "outputs": [],
   "source": [
    "from buffalo.algo.als import ALS\n",
    "from buffalo.algo.bpr import BPRMF\n",
    "from buffalo.misc import aux, log\n",
    "from buffalo.algo.options import ALSOption, BPRMFOption\n",
    "import buffalo.data\n",
    "from buffalo.data.mm import MatrixMarketOptions\n",
    "\n",
    "log.set_log_level(1) # set log level 3 or higher to check more information"
   ]
  },
  {
   "cell_type": "code",
   "execution_count": 2,
   "metadata": {},
   "outputs": [],
   "source": [
    "MODEL_TO_USE = \"ALS\"\n",
    "MODEL_TO_USE = \"BPR\"# un-comment this if you want to use BPR"
   ]
  },
  {
   "cell_type": "markdown",
   "metadata": {},
   "source": [
    "### To Run buffalo model, you have to set two options.\n",
    "    - model option\n",
    "    - data option"
   ]
  },
  {
   "cell_type": "markdown",
   "metadata": {},
   "source": [
    "### Model Option"
   ]
  },
  {
   "cell_type": "code",
   "execution_count": 3,
   "metadata": {},
   "outputs": [],
   "source": [
    "if MODEL_TO_USE == \"ALS\":\n",
    "    opt = ALSOption().get_default_option()  \n",
    "elif MODEL_TO_USE == \"BPR\":\n",
    "    opt = BPRMFOption().get_default_option()"
   ]
  },
  {
   "cell_type": "markdown",
   "metadata": {},
   "source": [
    "you may change other the option values\n",
    "```\n",
    "   opt.key = val\n",
    "```"
   ]
  },
  {
   "cell_type": "markdown",
   "metadata": {},
   "source": [
    "for example, one can set validation option."
   ]
  },
  {
   "cell_type": "code",
   "execution_count": 4,
   "metadata": {},
   "outputs": [],
   "source": [
    "opt.evaluation_on_learning =  True\n",
    "opt.validation = aux.Option({'topk': 10})"
   ]
  },
  {
   "cell_type": "markdown",
   "metadata": {},
   "source": [
    "`opt.validation = aux.Option({'topk': 10})` means we evaluate the model using validation data by top@10 metric\n",
    "\n",
    "`opt.evaluation_on_learning =  True` makes Buffalo model do evaluation during training\n"
   ]
  },
  {
   "cell_type": "markdown",
   "metadata": {},
   "source": [
    "#### Options are shown below"
   ]
  },
  {
   "cell_type": "code",
   "execution_count": 5,
   "metadata": {
    "scrolled": true
   },
   "outputs": [
    {
     "data": {
      "text/plain": [
       "{'evaluation_on_learning': True,\n",
       " 'compute_loss_on_training': True,\n",
       " 'early_stopping_rounds': 0,\n",
       " 'save_best': False,\n",
       " 'evaluation_period': 100,\n",
       " 'save_period': 10,\n",
       " 'random_seed': 0,\n",
       " 'validation': {'topk': 10},\n",
       " 'use_bias': True,\n",
       " 'num_workers': 1,\n",
       " 'num_iters': 100,\n",
       " 'd': 20,\n",
       " 'update_i': True,\n",
       " 'update_j': True,\n",
       " 'reg_u': 0.025,\n",
       " 'reg_i': 0.025,\n",
       " 'reg_j': 0.025,\n",
       " 'reg_b': 0.025,\n",
       " 'optimizer': 'sgd',\n",
       " 'lr': 0.002,\n",
       " 'min_lr': 0.0001,\n",
       " 'beta1': 0.9,\n",
       " 'beta2': 0.999,\n",
       " 'per_coordinate_normalize': False,\n",
       " 'num_negative_samples': 1,\n",
       " 'sampling_power': 0.0,\n",
       " 'model_path': '',\n",
       " 'data_opt': {}}"
      ]
     },
     "execution_count": 5,
     "metadata": {},
     "output_type": "execute_result"
    }
   ],
   "source": [
    "opt"
   ]
  },
  {
   "cell_type": "markdown",
   "metadata": {},
   "source": [
    "To see full description of options, see `Algooption`, `ALSOption`, and `BPROption` in `buffalo/algo/options.py`\n",
    "\n",
    "an option of one model is different from an option of other type of model"
   ]
  },
  {
   "cell_type": "markdown",
   "metadata": {},
   "source": [
    "### Data Option"
   ]
  },
  {
   "cell_type": "code",
   "execution_count": 6,
   "metadata": {},
   "outputs": [],
   "source": [
    "data_opt = MatrixMarketOptions().get_default_option()"
   ]
  },
  {
   "cell_type": "markdown",
   "metadata": {},
   "source": [
    "Similar to model option, data option can be set in this way.\n",
    "```\n",
    "    data_opt.key = val\n",
    "```\n",
    "\n",
    "\n",
    "You must set `data_opt.input.main` option.\n",
    "\n",
    "This should be the path of input data(matrix market or stream)"
   ]
  },
  {
   "cell_type": "code",
   "execution_count": 7,
   "metadata": {},
   "outputs": [],
   "source": [
    "data_opt.input.main = 'data/ml-1m/main.mtx'"
   ]
  },
  {
   "cell_type": "markdown",
   "metadata": {},
   "source": [
    "Additionally, we can set list of itemids, and list of userids also\n",
    "\n",
    "By doing so, you can query similar users/items or recommendations by itemids or userids."
   ]
  },
  {
   "cell_type": "code",
   "execution_count": 8,
   "metadata": {},
   "outputs": [],
   "source": [
    "data_opt.input.iid = 'data/ml-1m/iid'\n",
    "data_opt.input.uid = 'data/ml-1m/uid'"
   ]
  },
  {
   "cell_type": "code",
   "execution_count": 9,
   "metadata": {},
   "outputs": [
    {
     "data": {
      "text/plain": [
       "{'type': 'matrix_market',\n",
       " 'input': {'main': 'data/ml-1m/main.mtx',\n",
       "  'uid': 'data/ml-1m/uid',\n",
       "  'iid': 'data/ml-1m/iid'},\n",
       " 'data': {'internal_data_type': 'matrix',\n",
       "  'validation': {'name': 'sample', 'p': 0.01, 'max_samples': 500},\n",
       "  'batch_mb': 1024,\n",
       "  'use_cache': False,\n",
       "  'tmp_dir': '/tmp/',\n",
       "  'path': './mm.h5py'}}"
      ]
     },
     "execution_count": 9,
     "metadata": {},
     "output_type": "execute_result"
    }
   ],
   "source": [
    "data_opt"
   ]
  },
  {
   "cell_type": "markdown",
   "metadata": {},
   "source": [
    "### Open Data"
   ]
  },
  {
   "cell_type": "markdown",
   "metadata": {},
   "source": [
    "#### You can open data in two ways\n",
    "- open data when initializing model\n",
    "- open data directly\n",
    "\n",
    "There is no difference"
   ]
  },
  {
   "cell_type": "markdown",
   "metadata": {},
   "source": [
    "#### open data when initializing model"
   ]
  },
  {
   "cell_type": "code",
   "execution_count": 10,
   "metadata": {
    "scrolled": true
   },
   "outputs": [],
   "source": [
    "model = ALS(ALSOption().get_default_option(), data_opt=data_opt)\n",
    "del model"
   ]
  },
  {
   "cell_type": "markdown",
   "metadata": {},
   "source": [
    "it opens the data when loading model (indirect way)"
   ]
  },
  {
   "cell_type": "markdown",
   "metadata": {},
   "source": [
    "#### open data directly"
   ]
  },
  {
   "cell_type": "code",
   "execution_count": 11,
   "metadata": {
    "scrolled": true
   },
   "outputs": [],
   "source": [
    "data = buffalo.data.load(data_opt)\n",
    "data.create()\n",
    "model = ALS(ALSOption().get_default_option(), data=data)\n",
    "del data\n",
    "del model"
   ]
  },
  {
   "cell_type": "markdown",
   "metadata": {},
   "source": [
    "it opens data dirctly, and passes the opened data to the model\n",
    "afterwards, we will use opened data "
   ]
  },
  {
   "cell_type": "code",
   "execution_count": 12,
   "metadata": {},
   "outputs": [],
   "source": [
    "data = buffalo.data.load(data_opt)\n",
    "data.create()"
   ]
  },
  {
   "cell_type": "code",
   "execution_count": 13,
   "metadata": {
    "scrolled": true
   },
   "outputs": [],
   "source": [
    "if MODEL_TO_USE == \"ALS\":\n",
    "    model = ALS(opt, data=data)\n",
    "elif MODEL_TO_USE == \"BPR\":\n",
    "    model = BPRMF(opt, data=data)\n",
    "model.initialize()"
   ]
  },
  {
   "cell_type": "code",
   "execution_count": 14,
   "metadata": {
    "scrolled": true
   },
   "outputs": [],
   "source": [
    "val_res = model.train()"
   ]
  },
  {
   "cell_type": "code",
   "execution_count": 15,
   "metadata": {},
   "outputs": [
    {
     "data": {
      "text/plain": [
       "{'train_loss': 0.0,\n",
       " 'val_ndcg': 0.03604497128947639,\n",
       " 'val_map': 0.023406525573192238,\n",
       " 'val_accuracy': 0.07333333333333333,\n",
       " 'val_rmse': 3.030244968098499,\n",
       " 'val_error': 2.814815138220787}"
      ]
     },
     "execution_count": 15,
     "metadata": {},
     "output_type": "execute_result"
    }
   ],
   "source": [
    "val_res"
   ]
  },
  {
   "cell_type": "markdown",
   "metadata": {},
   "source": [
    "### Saving and Loading model"
   ]
  },
  {
   "cell_type": "code",
   "execution_count": 16,
   "metadata": {
    "scrolled": true
   },
   "outputs": [],
   "source": [
    "model.save(\"model/model-ml-1m\")\n",
    "del model\n",
    "if MODEL_TO_USE == \"ALS\":\n",
    "    model = ALS()\n",
    "elif MODEL_TO_USE == \"BPR\":\n",
    "    model = BPRMF()\n",
    "model.load(\"model/model-ml-1m\")"
   ]
  },
  {
   "cell_type": "markdown",
   "metadata": {},
   "source": [
    "### Recommendation for users"
   ]
  },
  {
   "cell_type": "code",
   "execution_count": 17,
   "metadata": {
    "scrolled": true
   },
   "outputs": [
    {
     "name": "stdout",
     "output_type": "stream",
     "text": [
      "for user 61, recommendations are  \n",
      "items ['American_Beauty_(1999)', 'Star_Wars:_Episode_IV_-_A_New_Hope_(1977)', 'Star_Wars:_Episode_V_-_The_Empire_Strikes_Back_(1980)'].\n",
      "\n",
      "for user 62, recommendations are  \n",
      "items ['American_Beauty_(1999)', 'Star_Wars:_Episode_IV_-_A_New_Hope_(1977)', 'Star_Wars:_Episode_V_-_The_Empire_Strikes_Back_(1980)'].\n",
      "\n",
      "for user 63, recommendations are  \n",
      "items ['American_Beauty_(1999)', 'Star_Wars:_Episode_IV_-_A_New_Hope_(1977)', 'Star_Wars:_Episode_V_-_The_Empire_Strikes_Back_(1980)'].\n",
      "\n",
      "for user 64, recommendations are  \n",
      "items ['American_Beauty_(1999)', 'Star_Wars:_Episode_IV_-_A_New_Hope_(1977)', 'Star_Wars:_Episode_V_-_The_Empire_Strikes_Back_(1980)'].\n",
      "\n",
      "for user 65, recommendations are  \n",
      "items ['American_Beauty_(1999)', 'Star_Wars:_Episode_IV_-_A_New_Hope_(1977)', 'Star_Wars:_Episode_V_-_The_Empire_Strikes_Back_(1980)'].\n",
      "\n",
      "for user 66, recommendations are  \n",
      "items ['American_Beauty_(1999)', 'Star_Wars:_Episode_IV_-_A_New_Hope_(1977)', 'Star_Wars:_Episode_V_-_The_Empire_Strikes_Back_(1980)'].\n",
      "\n",
      "for user 67, recommendations are  \n",
      "items ['American_Beauty_(1999)', 'Star_Wars:_Episode_IV_-_A_New_Hope_(1977)', 'Star_Wars:_Episode_V_-_The_Empire_Strikes_Back_(1980)'].\n",
      "\n",
      "for user 68, recommendations are  \n",
      "items ['American_Beauty_(1999)', 'Star_Wars:_Episode_IV_-_A_New_Hope_(1977)', 'Star_Wars:_Episode_V_-_The_Empire_Strikes_Back_(1980)'].\n",
      "\n",
      "for user 69, recommendations are  \n",
      "items ['American_Beauty_(1999)', 'Star_Wars:_Episode_IV_-_A_New_Hope_(1977)', 'Star_Wars:_Episode_V_-_The_Empire_Strikes_Back_(1980)'].\n",
      "\n"
     ]
    }
   ],
   "source": [
    "uids = [str(x) for x in range(61, 70)]\n",
    "recommendation_result = model.topk_recommendation(uids, topk=3)\n",
    "for uid, iids in recommendation_result.items():\n",
    "    print(f\"for user {uid}, recommendations are \", f\"\\nitems {iids}.\\n\")"
   ]
  },
  {
   "cell_type": "markdown",
   "metadata": {},
   "source": [
    "### Recommendation for users in given pools"
   ]
  },
  {
   "cell_type": "code",
   "execution_count": 18,
   "metadata": {},
   "outputs": [
    {
     "name": "stdout",
     "output_type": "stream",
     "text": [
      "for user 1, recommendations are  \n",
      "items ['Frequency_(2000)', 'Shanghai_Noon_(2000)', 'Gone_in_60_Seconds_(2000)'].\n",
      "\n",
      "for user 2, recommendations are  \n",
      "items ['Frequency_(2000)', 'Shanghai_Noon_(2000)', 'Gone_in_60_Seconds_(2000)'].\n",
      "\n",
      "for user 3, recommendations are  \n",
      "items ['Frequency_(2000)', 'Shanghai_Noon_(2000)', 'Gone_in_60_Seconds_(2000)'].\n",
      "\n",
      "for user 4, recommendations are  \n",
      "items ['Frequency_(2000)', 'Shanghai_Noon_(2000)', 'Gone_in_60_Seconds_(2000)'].\n",
      "\n"
     ]
    }
   ],
   "source": [
    "pool = ['Rules_of_Engagement_(2000)', \n",
    "        'Remember_the_Titans_(2000)', \n",
    "        'Skulls,_The_(2000)', \n",
    "        '28_Days_(2000)', \n",
    "        'Frequency_(2000)', \n",
    "        'Gone_in_60_Seconds_(2000)', \n",
    "        'What_Lies_Beneath_(2000)', \n",
    "        'Reindeer_Games_(2000)', \n",
    "        'Final_Destination_(2000)', \n",
    "        'Shanghai_Noon_(2000)']\n",
    "uids = [str(x) for x in range(5)]\n",
    "recommendation_result = model.topk_recommendation(uids, topk=3, pool=pool)\n",
    "for uid, iids in recommendation_result.items():\n",
    "    print(f\"for user {uid}, recommendations are \", f\"\\nitems {iids}.\\n\")"
   ]
  },
  {
   "cell_type": "markdown",
   "metadata": {},
   "source": [
    "Recommendation results are chosen among items in given pool"
   ]
  },
  {
   "cell_type": "markdown",
   "metadata": {},
   "source": [
    "### Find Most similar items"
   ]
  },
  {
   "cell_type": "code",
   "execution_count": 19,
   "metadata": {},
   "outputs": [
    {
     "name": "stdout",
     "output_type": "stream",
     "text": [
      "Similar movies to Toy_Story_2_(1999)\n",
      "01. 1.000 Bug's_Life,_A_(1998)\n",
      "02. 1.000 Toy_Story_(1995)\n",
      "03. 1.000 Gladiator_(2000)\n",
      "04. 0.999 Galaxy_Quest_(1999)\n",
      "05. 0.999 Sixth_Sense,_The_(1999)\n"
     ]
    }
   ],
   "source": [
    "print('Similar movies to Toy_Story_2_(1999)')\n",
    "similar_items = model.most_similar('Toy_Story_2_(1999)', 5)\n",
    "for rank, (movie_name, score) in enumerate(similar_items):\n",
    "    print(f'{rank + 1:02d}. {score:.3f} {movie_name}')\n"
   ]
  },
  {
   "cell_type": "markdown",
   "metadata": {},
   "source": [
    "### Find Most similar items given pool"
   ]
  },
  {
   "cell_type": "code",
   "execution_count": 20,
   "metadata": {},
   "outputs": [
    {
     "name": "stdout",
     "output_type": "stream",
     "text": [
      "01. 0.996 Shanghai_Noon_(2000)\n",
      "02. 0.982 Frequency_(2000)\n",
      "03. 0.980 Gone_in_60_Seconds_(2000)\n",
      "04. 0.980 Rules_of_Engagement_(2000)\n",
      "05. 0.950 Reindeer_Games_(2000)\n",
      "06. 0.948 Remember_the_Titans_(2000)\n"
     ]
    }
   ],
   "source": [
    "pool = ['Rules_of_Engagement_(2000)', \n",
    "        'Remember_the_Titans_(2000)', \n",
    "        'Skulls,_The_(2000)', \n",
    "        '28_Days_(2000)', \n",
    "        'Frequency_(2000)', \n",
    "        'Gone_in_60_Seconds_(2000)', \n",
    "        'What_Lies_Beneath_(2000)', \n",
    "        'Reindeer_Games_(2000)', \n",
    "        'Final_Destination_(2000)', \n",
    "        'Shanghai_Noon_(2000)']\n",
    "similar_items = model.most_similar('Toy_Story_2_(1999)', 5, pool=pool)\n",
    "for rank, (movie_name, score) in enumerate(similar_items):\n",
    "    print(f'{rank + 1:02d}. {score:.3f} {movie_name}')"
   ]
  }
 ],
 "metadata": {
  "kernelspec": {
   "display_name": "Python 3",
   "language": "python",
   "name": "python3"
  },
  "language_info": {
   "codemirror_mode": {
    "name": "ipython",
    "version": 3
   },
   "file_extension": ".py",
   "mimetype": "text/x-python",
   "name": "python",
   "nbconvert_exporter": "python",
   "pygments_lexer": "ipython3",
   "version": "3.7.3"
  }
 },
 "nbformat": 4,
 "nbformat_minor": 2
}
