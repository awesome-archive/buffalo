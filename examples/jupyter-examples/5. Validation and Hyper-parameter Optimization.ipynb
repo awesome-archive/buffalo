{
 "cells": [
  {
   "cell_type": "code",
   "execution_count": 1,
   "metadata": {},
   "outputs": [],
   "source": [
    "from pprint import pprint\n",
    "import json\n",
    "\n",
    "from buffalo.algo.bpr import BPRMF\n",
    "from buffalo.algo.options import BPRMFOption\n",
    "from buffalo.data.mm import MatrixMarketOptions\n",
    "from buffalo.misc import aux\n",
    "from buffalo.misc import log\n",
    "log.set_log_level(log.DEBUG)"
   ]
  },
  {
   "cell_type": "markdown",
   "metadata": {},
   "source": [
    "### BPR Hyperparameter optimization"
   ]
  },
  {
   "cell_type": "markdown",
   "metadata": {},
   "source": [
    "Buffalo exploits [hyperopt](https://github.com/hyperopt/hyperopt) to optimize hyperparameters"
   ]
  },
  {
   "cell_type": "code",
   "execution_count": 2,
   "metadata": {
    "scrolled": true
   },
   "outputs": [],
   "source": [
    "opt = BPRMFOption().get_default_option()\n",
    "opt.num_workers = 6\n",
    "opt.num_iters = 20\n",
    "opt.evaluation_period = 20\n",
    "opt.evaluation_on_learning = True"
   ]
  },
  {
   "cell_type": "markdown",
   "metadata": {},
   "source": [
    "To use hyperparameter optimization, validation option must be set to evaluate the model during training."
   ]
  },
  {
   "cell_type": "code",
   "execution_count": 3,
   "metadata": {},
   "outputs": [],
   "source": [
    "data_opt = MatrixMarketOptions().get_default_option()\n",
    "data_opt.input.main = 'data/ml-1m/main.mtx'\n",
    "data_opt.input.iid = 'data/ml-1m/iid'\n",
    "data_opt.input.uid = 'data/ml-1m/uid'\n",
    "data_opt.data.path = '.5_hpopt.h5py'\n",
    "data_opt.data.validation.p = 0.1\n",
    "data_opt.data.validation.max_samples = 5000"
   ]
  },
  {
   "cell_type": "markdown",
   "metadata": {},
   "source": [
    "### Set evaluation metric and validation dataset"
   ]
  },
  {
   "cell_type": "markdown",
   "metadata": {},
   "source": [
    "you can see how the validation is going by using tensorboard"
   ]
  },
  {
   "cell_type": "code",
   "execution_count": 4,
   "metadata": {},
   "outputs": [],
   "source": [
    "opt.validation = aux.Option({'topk': 10})\n",
    "opt.tensorboard = aux.Option({'root' :'./bpr-validation', 'name': 'bpr-new'})"
   ]
  },
  {
   "cell_type": "code",
   "execution_count": 5,
   "metadata": {},
   "outputs": [],
   "source": [
    "opt.optimize = aux.Option({\n",
    "        'loss': 'val_ndcg',\n",
    "        'max_trials':100,\n",
    "        'deployment': True,\n",
    "        'start_with_default_parameters': False,\n",
    "        'space': {\n",
    "                'num_negative_samples': ['randint', ['num_negative_samples', 1, 5]],\n",
    "                'reg_u': ['uniform', ['reg_u', 0.01, 0.05]],\n",
    "                'reg_i': ['uniform', ['reg_i', 0.01, 0.05]],\n",
    "                'reg_j': ['uniform', ['reg_j', 0.01, 0.05]]\n",
    "        }\n",
    "    })"
   ]
  },
  {
   "cell_type": "code",
   "execution_count": 6,
   "metadata": {
    "scrolled": true
   },
   "outputs": [
    {
     "name": "stderr",
     "output_type": "stream",
     "text": [
      "[INFO    ] 2019-10-04 11:29:50 [mm.py:193] Create the database from matrix market file.\n",
      "[DEBUG   ] 2019-10-04 11:29:50 [mm.py:198] Building meta part...\n",
      "[PROGRESS] 100.00% 0.2/0.2secs 31.44it/s\n",
      "[INFO    ] 2019-10-04 11:29:50 [mm.py:206] Creating working data...\n",
      "[PROGRESS] 100.00% 2.6/2.6secs 4,233,314.61it/s\n",
      "[DEBUG   ] 2019-10-04 11:29:54 [mm.py:210] Working data is created on /tmp/tmpgfansid0\n",
      "[INFO    ] 2019-10-04 11:29:54 [mm.py:211] Building data part...\n",
      "[INFO    ] 2019-10-04 11:29:54 [base.py:362] Building compressed triplets for rowwise...\n",
      "[INFO    ] 2019-10-04 11:29:54 [base.py:363] Preprocessing...\n",
      "[INFO    ] 2019-10-04 11:29:54 [base.py:366] In-memory Compressing ...\n",
      "[INFO    ] 2019-10-04 11:29:54 [base.py:249] Load triplet files. Total job files: 7\n",
      "[INFO    ] 2019-10-04 11:29:54 [base.py:396] Finished\n",
      "[INFO    ] 2019-10-04 11:29:54 [base.py:362] Building compressed triplets for colwise...\n",
      "[INFO    ] 2019-10-04 11:29:54 [base.py:363] Preprocessing...\n",
      "[INFO    ] 2019-10-04 11:29:54 [base.py:366] In-memory Compressing ...\n",
      "[INFO    ] 2019-10-04 11:29:55 [base.py:249] Load triplet files. Total job files: 7\n",
      "[INFO    ] 2019-10-04 11:29:55 [base.py:396] Finished\n",
      "[INFO    ] 2019-10-04 11:29:55 [mm.py:225] DB built on .5_hpopt.h5py\n",
      "[INFO    ] 2019-10-04 11:29:55 [bpr.py:47] BPRMF({\n",
      "  \"evaluation_on_learning\": true,\n",
      "  \"compute_loss_on_training\": true,\n",
      "  \"early_stopping_rounds\": 0,\n",
      "  \"save_best\": false,\n",
      "  \"evaluation_period\": 20,\n",
      "  \"save_period\": 10,\n",
      "  \"random_seed\": 0,\n",
      "  \"validation\": {\n",
      "    \"topk\": 10\n",
      "  },\n",
      "  \"use_bias\": true,\n",
      "  \"num_workers\": 6,\n",
      "  \"num_iters\": 20,\n",
      "  \"d\": 20,\n",
      "  \"update_i\": true,\n",
      "  \"update_j\": true,\n",
      "  \"reg_u\": 0.025,\n",
      "  \"reg_i\": 0.025,\n",
      "  \"reg_j\": 0.025,\n",
      "  \"reg_b\": 0.025,\n",
      "  \"optimizer\": \"sgd\",\n",
      "  \"lr\": 0.002,\n",
      "  \"min_lr\": 0.0001,\n",
      "  \"beta1\": 0.9,\n",
      "  \"beta2\": 0.999,\n",
      "  \"per_coordinate_normalize\": false,\n",
      "  \"num_negative_samples\": 1,\n",
      "  \"sampling_power\": 0.0,\n",
      "  \"model_path\": \"\",\n",
      "  \"data_opt\": {},\n",
      "  \"tensorboard\": {\n",
      "    \"root\": \"./bpr-validation\",\n",
      "    \"name\": \"bpr-new\"\n",
      "  },\n",
      "  \"optimize\": {\n",
      "    \"loss\": \"val_ndcg\",\n",
      "    \"max_trials\": 100,\n",
      "    \"deployment\": true,\n",
      "    \"start_with_default_parameters\": false,\n",
      "    \"space\": {\n",
      "      \"num_negative_samples\": [\n",
      "        \"randint\",\n",
      "        [\n",
      "          \"num_negative_samples\",\n",
      "          1,\n",
      "          5\n",
      "        ]\n",
      "      ],\n",
      "      \"reg_u\": [\n",
      "        \"uniform\",\n",
      "        [\n",
      "          \"reg_u\",\n",
      "          0.01,\n",
      "          0.05\n",
      "        ]\n",
      "      ],\n",
      "      \"reg_i\": [\n",
      "        \"uniform\",\n",
      "        [\n",
      "          \"reg_i\",\n",
      "          0.01,\n",
      "          0.05\n",
      "        ]\n",
      "      ],\n",
      "      \"reg_j\": [\n",
      "        \"uniform\",\n",
      "        [\n",
      "          \"reg_j\",\n",
      "          0.01,\n",
      "          0.05\n",
      "        ]\n",
      "      ]\n",
      "    }\n",
      "  }\n",
      "})\n",
      "[INFO    ] 2019-10-04 11:29:55 [bpr.py:49] MatrixMarket Header(6040, 3706, 995209) Validation(5000 samples)\n",
      "[INFO    ] 2019-10-04 11:29:55 [buffered_data.py:71] Set data buffer size as 67108864(minimum required batch size is 3410).\n",
      "[INFO    ] 2019-10-04 11:29:55 [bpr.py:91] Preparing sampling ...\n"
     ]
    }
   ],
   "source": [
    "bpr = BPRMF(opt, data_opt=data_opt)\n",
    "bpr.initialize()"
   ]
  },
  {
   "cell_type": "code",
   "execution_count": 7,
   "metadata": {
    "scrolled": true
   },
   "outputs": [
    {
     "name": "stderr",
     "output_type": "stream",
     "text": [
      "[optimizing... ] 0.00% 0.0/0.0secs 0.00it/s[INFO    ] 2019-10-04 11:30:14 [optimize.py:73] Found new best parameters: {'num_negative_samples': 2, 'reg_i': 0.037947079665678056, 'reg_j': 0.01492763307463982, 'reg_u': 0.0385737433261689} @ iter 1\n",
      "[INFO    ] 2019-10-04 11:30:14 [optimize.py:79] Saving model... to models/bpr-best-model.bin\n",
      "[optimizing... ] 1.00% 18.3/1831.4secs 0.05it/s[DEBUG   ] 2019-10-04 11:30:14 [optimize.py:84] Params({'num_negative_samples': 2, 'reg_i': 0.037947079665678056, 'reg_j': 0.01492763307463982, 'reg_u': 0.0385737433261689}) Losses({'train_loss': 0.0, 'val_ndcg': 0.04854122863019933, 'val_map': 0.031648377015489525, 'val_accuracy': 0.07621592337695639, 'val_rmse': 2.8708799838255823, 'val_error': 2.6341123029828073, 'eval_time': 1570156214.3249521, 'loss': 0.04854122863019933, 'status': 'ok'})\n",
      "[INFO    ] 2019-10-04 11:30:37 [optimize.py:73] Found new best parameters: {'num_negative_samples': 4, 'reg_i': 0.03843104993570734, 'reg_j': 0.016811995147165984, 'reg_u': 0.0389307972772642} @ iter 2\n",
      "[INFO    ] 2019-10-04 11:30:37 [optimize.py:79] Saving model... to models/bpr-best-model.bin\n",
      "[optimizing... ] 2.00% 41.1/2056.7secs 0.05it/s[DEBUG   ] 2019-10-04 11:30:37 [optimize.py:84] Params({'num_negative_samples': 4, 'reg_i': 0.03843104993570734, 'reg_j': 0.016811995147165984, 'reg_u': 0.0389307972772642}) Losses({'train_loss': 0.0, 'val_ndcg': 0.047924034796381576, 'val_map': 0.030896994194563532, 'val_accuracy': 0.07623913306594655, 'val_rmse': 2.9754632461669366, 'val_error': 2.742848788034916, 'eval_time': 1570156237.2239277, 'loss': 0.047924034796381576, 'status': 'ok'})\n",
      "[INFO    ] 2019-10-04 11:30:51 [optimize.py:73] Found new best parameters: {'num_negative_samples': 1, 'reg_i': 0.046004653701477514, 'reg_j': 0.01958601361359119, 'reg_u': 0.010130272506189489} @ iter 3\n",
      "[INFO    ] 2019-10-04 11:30:51 [optimize.py:79] Saving model... to models/bpr-best-model.bin\n",
      "[optimizing... ] 3.00% 55.5/1850.8secs 0.05it/s[DEBUG   ] 2019-10-04 11:30:51 [optimize.py:84] Params({'num_negative_samples': 1, 'reg_i': 0.046004653701477514, 'reg_j': 0.01958601361359119, 'reg_u': 0.010130272506189489}) Losses({'train_loss': 0.0, 'val_ndcg': 0.04790205487475558, 'val_map': 0.03067100210834502, 'val_accuracy': 0.07665901743949596, 'val_rmse': 2.855744454823776, 'val_error': 2.621895769572258, 'eval_time': 1570156251.620444, 'loss': 0.04790205487475558, 'status': 'ok'})\n",
      "[optimizing... ] 4.00% 68.4/1710.1secs 0.06it/s[DEBUG   ] 2019-10-04 11:31:04 [optimize.py:84] Params({'num_negative_samples': 1, 'reg_i': 0.026738743310891003, 'reg_j': 0.038409942281172796, 'reg_u': 0.03753849888345608}) Losses({'train_loss': 0.0, 'val_ndcg': 0.04796670522731271, 'val_map': 0.030985732859206923, 'val_accuracy': 0.07572819529712806, 'val_rmse': 2.855869476493426, 'val_error': 2.622077289175987, 'eval_time': 1570156264.5168154, 'loss': 0.04796670522731271, 'status': 'ok'})\n",
      "[INFO    ] 2019-10-04 11:31:25 [optimize.py:73] Found new best parameters: {'num_negative_samples': 3, 'reg_i': 0.013406772272205086, 'reg_j': 0.012652671284892968, 'reg_u': 0.040695698708849565} @ iter 5\n",
      "[INFO    ] 2019-10-04 11:31:25 [optimize.py:79] Saving model... to models/bpr-best-model.bin\n",
      "[optimizing... ] 5.00% 89.3/1785.0secs 0.06it/s[DEBUG   ] 2019-10-04 11:31:25 [optimize.py:84] Params({'num_negative_samples': 3, 'reg_i': 0.013406772272205086, 'reg_j': 0.012652671284892968, 'reg_u': 0.040695698708849565}) Losses({'train_loss': 0.0, 'val_ndcg': 0.04767099508211269, 'val_map': 0.0305296372322262, 'val_accuracy': 0.07660837811806286, 'val_rmse': 2.9246171658029327, 'val_error': 2.689788939666748, 'eval_time': 1570156285.3413396, 'loss': 0.04767099508211269, 'status': 'ok'})\n",
      "[INFO    ] 2019-10-04 11:31:42 [optimize.py:73] Found new best parameters: {'num_negative_samples': 2, 'reg_i': 0.04950630515910309, 'reg_j': 0.016380417036479075, 'reg_u': 0.011106042660472078} @ iter 6\n",
      "[INFO    ] 2019-10-04 11:31:42 [optimize.py:79] Saving model... to models/bpr-best-model.bin\n",
      "[optimizing... ] 6.00% 106.1/1767.6secs 0.06it/s[DEBUG   ] 2019-10-04 11:31:42 [optimize.py:84] Params({'num_negative_samples': 2, 'reg_i': 0.04950630515910309, 'reg_j': 0.016380417036479075, 'reg_u': 0.011106042660472078}) Losses({'train_loss': 0.0, 'val_ndcg': 0.04761325735346279, 'val_map': 0.03064299797509701, 'val_accuracy': 0.07589942761799957, 'val_rmse': 2.8710344990126107, 'val_error': 2.6341980714797972, 'eval_time': 1570156302.1491437, 'loss': 0.04761325735346279, 'status': 'ok'})\n",
      "[optimizing... ] 7.00% 122.6/1752.0secs 0.06it/s[DEBUG   ] 2019-10-04 11:31:58 [optimize.py:84] Params({'num_negative_samples': 2, 'reg_i': 0.0395370066660923, 'reg_j': 0.01151502070555801, 'reg_u': 0.03132328860433744}) Losses({'train_loss': 0.0, 'val_ndcg': 0.048671367768244676, 'val_map': 0.03147654230560298, 'val_accuracy': 0.07751112140591819, 'val_rmse': 2.8711303562294077, 'val_error': 2.63434818379879, 'eval_time': 1570156318.754126, 'loss': 0.048671367768244676, 'status': 'ok'})\n",
      "[INFO    ] 2019-10-04 11:32:11 [optimize.py:73] Found new best parameters: {'num_negative_samples': 1, 'reg_i': 0.026441071298535936, 'reg_j': 0.046850835399410956, 'reg_u': 0.033159794216834626} @ iter 8\n",
      "[INFO    ] 2019-10-04 11:32:11 [optimize.py:79] Saving model... to models/bpr-best-model.bin\n",
      "[optimizing... ] 8.00% 134.9/1686.6secs 0.06it/s[DEBUG   ] 2019-10-04 11:32:11 [optimize.py:84] Params({'num_negative_samples': 1, 'reg_i': 0.026441071298535936, 'reg_j': 0.046850835399410956, 'reg_u': 0.033159794216834626}) Losses({'train_loss': 0.0, 'val_ndcg': 0.047189180365703166, 'val_map': 0.030247112855354436, 'val_accuracy': 0.07487609133070582, 'val_rmse': 2.8558077701572624, 'val_error': 2.6219116079568865, 'eval_time': 1570156331.0208879, 'loss': 0.047189180365703166, 'status': 'ok'})\n",
      "[optimizing... ] 9.00% 148.0/1644.2secs 0.06it/s[DEBUG   ] 2019-10-04 11:32:24 [optimize.py:84] Params({'num_negative_samples': 1, 'reg_i': 0.022896195329625425, 'reg_j': 0.028314867085337432, 'reg_u': 0.021089820297330638}) Losses({'train_loss': 0.0, 'val_ndcg': 0.048133334424206003, 'val_map': 0.031001756802649348, 'val_accuracy': 0.07656406871180893, 'val_rmse': 2.8557894935656245, 'val_error': 2.622038981282711, 'eval_time': 1570156344.0924487, 'loss': 0.048133334424206003, 'status': 'ok'})\n",
      "[optimizing... ] 10.00% 172.0/1720.2secs 0.06it/s[DEBUG   ] 2019-10-04 11:32:48 [optimize.py:84] Params({'num_negative_samples': 4, 'reg_i': 0.024855985883265076, 'reg_j': 0.04782225416860029, 'reg_u': 0.035148172760229676}) Losses({'train_loss': 0.0, 'val_ndcg': 0.048709952789608144, 'val_map': 0.03145841664372493, 'val_accuracy': 0.0776528141226204, 'val_rmse': 2.9755238607651764, 'val_error': 2.7428373651981355, 'eval_time': 1570156368.135506, 'loss': 0.048709952789608144, 'status': 'ok'})\n",
      "[optimizing... ] 11.00% 193.3/1757.1secs 0.06it/s[DEBUG   ] 2019-10-04 11:33:09 [optimize.py:84] Params({'num_negative_samples': 3, 'reg_i': 0.04438369310532867, 'reg_j': 0.02767886279816257, 'reg_u': 0.024983638253070525}) Losses({'train_loss': 0.0, 'val_ndcg': 0.047626775035084834, 'val_map': 0.030529145025102955, 'val_accuracy': 0.07621803334868277, 'val_rmse': 2.924709715118405, 'val_error': 2.6900063903927802, 'eval_time': 1570156389.3962867, 'loss': 0.047626775035084834, 'status': 'ok'})\n",
      "[optimizing... ] 12.00% 211.1/1758.9secs 0.06it/s[DEBUG   ] 2019-10-04 11:33:27 [optimize.py:84] Params({'num_negative_samples': 2, 'reg_i': 0.029513057436881207, 'reg_j': 0.016750149429387837, 'reg_u': 0.010240704999659692}) Losses({'train_loss': 0.0, 'val_ndcg': 0.048743094635280884, 'val_map': 0.031974913440921834, 'val_accuracy': 0.07608088518646815, 'val_rmse': 2.870900014917496, 'val_error': 2.634187586200237, 'eval_time': 1570156407.178184, 'loss': 0.048743094635280884, 'status': 'ok'})\n",
      "[optimizing... ] 13.00% 227.1/1746.6secs 0.06it/s[DEBUG   ] 2019-10-04 11:33:43 [optimize.py:84] Params({'num_negative_samples': 2, 'reg_i': 0.03769291542402282, 'reg_j': 0.015284998183412703, 'reg_u': 0.0467736858652565}) Losses({'train_loss': 0.0, 'val_ndcg': 0.04811859088022979, 'val_map': 0.031480701964149274, 'val_accuracy': 0.07511841346820455, 'val_rmse': 2.871084274321076, 'val_error': 2.634332958328724, 'eval_time': 1570156423.1677125, 'loss': 0.04811859088022979, 'status': 'ok'})\n"
     ]
    },
    {
     "name": "stderr",
     "output_type": "stream",
     "text": [
      "[optimizing... ] 14.00% 238.9/1706.7secs 0.06it/s[DEBUG   ] 2019-10-04 11:33:55 [optimize.py:84] Params({'num_negative_samples': 1, 'reg_i': 0.033883168181139685, 'reg_j': 0.0382788431813184, 'reg_u': 0.048138162464889764}) Losses({'train_loss': 0.0, 'val_ndcg': 0.04826808486545401, 'val_map': 0.03100333605189558, 'val_accuracy': 0.07700716277434848, 'val_rmse': 2.855877740910218, 'val_error': 2.62204476672411, 'eval_time': 1570156435.0569375, 'loss': 0.04826808486545401, 'status': 'ok'})\n",
      "[optimizing... ] 15.00% 257.7/1718.2secs 0.06it/s[DEBUG   ] 2019-10-04 11:34:13 [optimize.py:84] Params({'num_negative_samples': 3, 'reg_i': 0.03625270535442547, 'reg_j': 0.014103082888534138, 'reg_u': 0.04395161736077109}) Losses({'train_loss': 0.0, 'val_ndcg': 0.047397635391807996, 'val_map': 0.03008370738682444, 'val_accuracy': 0.07635274692813619, 'val_rmse': 2.924877775219038, 'val_error': 2.6901355184674265, 'eval_time': 1570156453.848767, 'loss': 0.047397635391807996, 'status': 'ok'})\n",
      "[optimizing... ] 16.00% 273.7/1710.9secs 0.06it/s[DEBUG   ] 2019-10-04 11:34:29 [optimize.py:84] Params({'num_negative_samples': 2, 'reg_i': 0.04309866026690233, 'reg_j': 0.014994052634533853, 'reg_u': 0.03944834967257857}) Losses({'train_loss': 0.0, 'val_ndcg': 0.04803573555469236, 'val_map': 0.031290337300750044, 'val_accuracy': 0.07546899338581828, 'val_rmse': 2.8709686637448697, 'val_error': 2.634139627826214, 'eval_time': 1570156469.854655, 'loss': 0.04803573555469236, 'status': 'ok'})\n",
      "[INFO    ] 2019-10-04 11:34:48 [optimize.py:73] Found new best parameters: {'num_negative_samples': 3, 'reg_i': 0.026300459227780452, 'reg_j': 0.04613927922296702, 'reg_u': 0.012178941310474808} @ iter 17\n",
      "[INFO    ] 2019-10-04 11:34:48 [optimize.py:79] Saving model... to models/bpr-best-model.bin\n",
      "[optimizing... ] 17.00% 292.7/1722.0secs 0.06it/s[DEBUG   ] 2019-10-04 11:34:48 [optimize.py:84] Params({'num_negative_samples': 3, 'reg_i': 0.026300459227780452, 'reg_j': 0.04613927922296702, 'reg_u': 0.012178941310474808}) Losses({'train_loss': 0.0, 'val_ndcg': 0.047103688607983724, 'val_map': 0.030093652602198005, 'val_accuracy': 0.07563568115220222, 'val_rmse': 2.9246629442906618, 'val_error': 2.6899218549251556, 'eval_time': 1570156488.8274975, 'loss': 0.047103688607983724, 'status': 'ok'})\n",
      "[optimizing... ] 18.00% 313.6/1742.4secs 0.06it/s[DEBUG   ] 2019-10-04 11:35:09 [optimize.py:84] Params({'num_negative_samples': 3, 'reg_i': 0.04831736937694946, 'reg_j': 0.012246783981438636, 'reg_u': 0.028561872509492985}) Losses({'train_loss': 0.0, 'val_ndcg': 0.04734062181252489, 'val_map': 0.03038274133555183, 'val_accuracy': 0.07560159699354532, 'val_rmse': 2.9246455549152057, 'val_error': 2.689810416793823, 'eval_time': 1570156509.75298, 'loss': 0.04734062181252489, 'status': 'ok'})\n",
      "[optimizing... ] 19.00% 338.5/1781.8secs 0.06it/s[DEBUG   ] 2019-10-04 11:35:34 [optimize.py:84] Params({'num_negative_samples': 4, 'reg_i': 0.02359038343434635, 'reg_j': 0.03873587354535884, 'reg_u': 0.01565973456150633}) Losses({'train_loss': 0.0, 'val_ndcg': 0.04804360268985115, 'val_map': 0.03091785695865329, 'val_accuracy': 0.0765450789662715, 'val_rmse': 2.9749335949466467, 'val_error': 2.742305084550381, 'eval_time': 1570156534.6543648, 'loss': 0.04804360268985115, 'status': 'ok'})\n",
      "[optimizing... ] 20.00% 351.4/1756.9secs 0.06it/s[DEBUG   ] 2019-10-04 11:35:47 [optimize.py:84] Params({'num_negative_samples': 1, 'reg_i': 0.039518073058359714, 'reg_j': 0.044844554481936964, 'reg_u': 0.028133997981761916}) Losses({'train_loss': 0.0, 'val_ndcg': 0.04766022772648017, 'val_map': 0.030857658293093185, 'val_accuracy': 0.07491829076523339, 'val_rmse': 2.8559437842494457, 'val_error': 2.62207753688097, 'eval_time': 1570156547.4904263, 'loss': 0.04766022772648017, 'status': 'ok'})\n",
      "[optimizing... ] 21.00% 372.3/1773.0secs 0.06it/s[DEBUG   ] 2019-10-04 11:36:08 [optimize.py:84] Params({'num_negative_samples': 3, 'reg_i': 0.017426061114392478, 'reg_j': 0.0443298586410312, 'reg_u': 0.020372454936016755}) Losses({'train_loss': 0.0, 'val_ndcg': 0.047820196804622205, 'val_map': 0.030591181423407058, 'val_accuracy': 0.07722838519458343, 'val_rmse': 2.924426436943184, 'val_error': 2.689673809182644, 'eval_time': 1570156568.4402847, 'loss': 0.047820196804622205, 'status': 'ok'})\n",
      "[INFO    ] 2019-10-04 11:36:29 [optimize.py:73] Found new best parameters: {'num_negative_samples': 3, 'reg_i': 0.018654308635423528, 'reg_j': 0.049948652368187504, 'reg_u': 0.015588982036383493} @ iter 22\n",
      "[INFO    ] 2019-10-04 11:36:29 [optimize.py:79] Saving model... to models/bpr-best-model.bin\n",
      "[optimizing... ] 22.00% 393.6/1789.1secs 0.06it/s[DEBUG   ] 2019-10-04 11:36:29 [optimize.py:84] Params({'num_negative_samples': 3, 'reg_i': 0.018654308635423528, 'reg_j': 0.049948652368187504, 'reg_u': 0.015588982036383493}) Losses({'train_loss': 0.0, 'val_ndcg': 0.04706854210233301, 'val_map': 0.03013937786646359, 'val_accuracy': 0.07508919847507008, 'val_rmse': 2.9245432183811135, 'val_error': 2.6897158841848374, 'eval_time': 1570156589.68634, 'loss': 0.04706854210233301, 'status': 'ok'})\n",
      "[INFO    ] 2019-10-04 11:36:51 [optimize.py:73] Found new best parameters: {'num_negative_samples': 3, 'reg_i': 0.01837186405612111, 'reg_j': 0.03330926134004569, 'reg_u': 0.014196820538455477} @ iter 23\n",
      "[INFO    ] 2019-10-04 11:36:51 [optimize.py:79] Saving model... to models/bpr-best-model.bin\n",
      "[optimizing... ] 23.00% 415.6/1806.9secs 0.06it/s[DEBUG   ] 2019-10-04 11:36:51 [optimize.py:84] Params({'num_negative_samples': 3, 'reg_i': 0.01837186405612111, 'reg_j': 0.03330926134004569, 'reg_u': 0.014196820538455477}) Losses({'train_loss': 0.0, 'val_ndcg': 0.04695491864046616, 'val_map': 0.029892559737318594, 'val_accuracy': 0.0755931571066398, 'val_rmse': 2.9244900015967668, 'val_error': 2.689752414035797, 'eval_time': 1570156611.68581, 'loss': 0.04695491864046616, 'status': 'ok'})\n",
      "[optimizing... ] 24.00% 437.0/1820.9secs 0.05it/s[DEBUG   ] 2019-10-04 11:37:13 [optimize.py:84] Params({'num_negative_samples': 3, 'reg_i': 0.010967369990826523, 'reg_j': 0.0330909168216054, 'reg_u': 0.016152785124664122}) Losses({'train_loss': 0.0, 'val_ndcg': 0.047620929784340904, 'val_map': 0.030297307575602322, 'val_accuracy': 0.07711477133239379, 'val_rmse': 2.9244783531081198, 'val_error': 2.6896060090661047, 'eval_time': 1570156633.1219053, 'loss': 0.047620929784340904, 'status': 'ok'})\n",
      "[optimizing... ] 25.00% 458.2/1832.9secs 0.05it/s[DEBUG   ] 2019-10-04 11:37:34 [optimize.py:84] Params({'num_negative_samples': 3, 'reg_i': 0.018454633485644318, 'reg_j': 0.02413434976913342, 'reg_u': 0.015636121796727263}) Losses({'train_loss': 0.0, 'val_ndcg': 0.047534506395699505, 'val_map': 0.030374186859478867, 'val_accuracy': 0.07647030249574874, 'val_rmse': 2.9244473129424877, 'val_error': 2.6897055430054664, 'eval_time': 1570156654.3500173, 'loss': 0.047534506395699505, 'status': 'ok'})\n",
      "[optimizing... ] 26.00% 479.4/1843.7secs 0.05it/s[DEBUG   ] 2019-10-04 11:37:55 [optimize.py:84] Params({'num_negative_samples': 3, 'reg_i': 0.018896544593587295, 'reg_j': 0.03308225911362657, 'reg_u': 0.02090423463560021}) Losses({'train_loss': 0.0, 'val_ndcg': 0.04769687583229884, 'val_map': 0.030320981123456135, 'val_accuracy': 0.07728957437464842, 'val_rmse': 2.9245089793006684, 'val_error': 2.689736068201065, 'eval_time': 1570156675.4818954, 'loss': 0.04769687583229884, 'status': 'ok'})\n",
      "[optimizing... ] 27.00% 501.3/1856.6secs 0.05it/s[DEBUG   ] 2019-10-04 11:38:17 [optimize.py:84] Params({'num_negative_samples': 3, 'reg_i': 0.014131969603210622, 'reg_j': 0.042338355189191046, 'reg_u': 0.024299482499537374}) Losses({'train_loss': 0.0, 'val_ndcg': 0.04774272016254426, 'val_map': 0.03070757578889262, 'val_accuracy': 0.07618394919002588, 'val_rmse': 2.924518163816951, 'val_error': 2.6896127475738525, 'eval_time': 1570156697.392477, 'loss': 0.04774272016254426, 'status': 'ok'})\n",
      "[optimizing... ] 28.00% 523.5/1869.6secs 0.05it/s[DEBUG   ] 2019-10-04 11:38:39 [optimize.py:84] Params({'num_negative_samples': 3, 'reg_i': 0.010187775648997274, 'reg_j': 0.04961819131852732, 'reg_u': 0.013524199687378804}) Losses({'train_loss': 0.0, 'val_ndcg': 0.04753997304438948, 'val_map': 0.030451111117809466, 'val_accuracy': 0.07631087210464345, 'val_rmse': 2.9245705371542328, 'val_error': 2.689755125069618, 'eval_time': 1570156719.6084385, 'loss': 0.04753997304438948, 'status': 'ok'})\n"
     ]
    },
    {
     "name": "stderr",
     "output_type": "stream",
     "text": [
      "[optimizing... ] 29.00% 548.2/1890.2secs 0.05it/s[DEBUG   ] 2019-10-04 11:39:04 [optimize.py:84] Params({'num_negative_samples': 4, 'reg_i': 0.020749659367886773, 'reg_j': 0.024066913668558433, 'reg_u': 0.018737994518540566}) Losses({'train_loss': 0.0, 'val_ndcg': 0.04812807946884335, 'val_map': 0.031070200266459323, 'val_accuracy': 0.07662947783532664, 'val_rmse': 2.9747757414954323, 'val_error': 2.7421265095114706, 'eval_time': 1570156744.2710388, 'loss': 0.04812807946884335, 'status': 'ok'})\n",
      "[optimizing... ] 30.00% 568.5/1894.9secs 0.05it/s[DEBUG   ] 2019-10-04 11:39:24 [optimize.py:84] Params({'num_negative_samples': 3, 'reg_i': 0.015582317767713008, 'reg_j': 0.03488844043902033, 'reg_u': 0.024691335268235436}) Losses({'train_loss': 0.0, 'val_ndcg': 0.04756272216943884, 'val_map': 0.030318167827820968, 'val_accuracy': 0.07679827557343696, 'val_rmse': 2.9245171428750334, 'val_error': 2.689729225540161, 'eval_time': 1570156764.591678, 'loss': 0.04756272216943884, 'status': 'ok'})\n",
      "[optimizing... ] 31.00% 589.7/1902.4secs 0.05it/s[DEBUG   ] 2019-10-04 11:39:45 [optimize.py:84] Params({'num_negative_samples': 3, 'reg_i': 0.020945174729566515, 'reg_j': 0.041858340244380024, 'reg_u': 0.0173221653554545}) Losses({'train_loss': 0.0, 'val_ndcg': 0.04756902009578065, 'val_map': 0.03036055900184272, 'val_accuracy': 0.07647934523171893, 'val_rmse': 2.924511246878539, 'val_error': 2.689729093360901, 'eval_time': 1570156785.8530457, 'loss': 0.04756902009578065, 'status': 'ok'})\n",
      "[optimizing... ] 32.00% 614.5/1920.4secs 0.05it/s[DEBUG   ] 2019-10-04 11:40:10 [optimize.py:84] Params({'num_negative_samples': 4, 'reg_i': 0.031639571287853045, 'reg_j': 0.020104276050268342, 'reg_u': 0.014219289274308712}) Losses({'train_loss': 0.0, 'val_ndcg': 0.048078593864704734, 'val_map': 0.03080345462656519, 'val_accuracy': 0.0772730192118722, 'val_rmse': 2.9752236586845178, 'val_error': 2.7426163610100747, 'eval_time': 1570156810.627571, 'loss': 0.048078593864704734, 'status': 'ok'})\n",
      "[optimizing... ] 33.00% 635.3/1925.0secs 0.05it/s[DEBUG   ] 2019-10-04 11:40:31 [optimize.py:84] Params({'num_negative_samples': 3, 'reg_i': 0.011707719171937511, 'reg_j': 0.024793932208265892, 'reg_u': 0.02238569804978901}) Losses({'train_loss': 0.0, 'val_ndcg': 0.047663597307322184, 'val_map': 0.030607106686199002, 'val_accuracy': 0.07624757295285207, 'val_rmse': 2.9245081920981653, 'val_error': 2.6896814782857894, 'eval_time': 1570156831.365729, 'loss': 0.047663597307322184, 'status': 'ok'})\n",
      "[optimizing... ] 34.00% 655.0/1926.4secs 0.05it/s[DEBUG   ] 2019-10-04 11:40:51 [optimize.py:84] Params({'num_negative_samples': 3, 'reg_i': 0.016226025648114914, 'reg_j': 0.03623358977167364, 'reg_u': 0.01847259977426794}) Losses({'train_loss': 0.0, 'val_ndcg': 0.04749752560489869, 'val_map': 0.030418389092565775, 'val_accuracy': 0.07578305456201391, 'val_rmse': 2.924418862544285, 'val_error': 2.6896504296779633, 'eval_time': 1570156851.087119, 'loss': 0.04749752560489869, 'status': 'ok'})\n",
      "[optimizing... ] 35.00% 677.2/1934.8secs 0.05it/s[DEBUG   ] 2019-10-04 11:41:13 [optimize.py:84] Params({'num_negative_samples': 4, 'reg_i': 0.02987850999284019, 'reg_j': 0.019682002433427943, 'reg_u': 0.02745041974574665}) Losses({'train_loss': 0.0, 'val_ndcg': 0.04750244987482353, 'val_map': 0.030218660891372665, 'val_accuracy': 0.07716752062555327, 'val_rmse': 2.9750006147338084, 'val_error': 2.742434109675884, 'eval_time': 1570156873.278609, 'loss': 0.04750244987482353, 'status': 'ok'})\n",
      "[optimizing... ] 36.00% 697.2/1936.7secs 0.05it/s[DEBUG   ] 2019-10-04 11:41:33 [optimize.py:84] Params({'num_negative_samples': 3, 'reg_i': 0.013511155658697805, 'reg_j': 0.04963531183023201, 'reg_u': 0.010431090850384402}) Losses({'train_loss': 0.0, 'val_ndcg': 0.048030160976003815, 'val_map': 0.03092099679753182, 'val_accuracy': 0.0769438636225571, 'val_rmse': 2.9247347006586755, 'val_error': 2.6900111791729926, 'eval_time': 1570156893.314584, 'loss': 0.048030160976003815, 'status': 'ok'})\n",
      "[optimizing... ] 37.00% 714.6/1931.3secs 0.05it/s[DEBUG   ] 2019-10-04 11:41:50 [optimize.py:84] Params({'num_negative_samples': 2, 'reg_i': 0.0215136186231975, 'reg_j': 0.030756916271279827, 'reg_u': 0.012794612496193465}) Losses({'train_loss': 0.0, 'val_ndcg': 0.048798851734022125, 'val_map': 0.03200743965983241, 'val_accuracy': 0.07609955032097074, 'val_rmse': 2.8712587448022013, 'val_error': 2.634507839870453, 'eval_time': 1570156910.6932495, 'loss': 0.048798851734022125, 'status': 'ok'})\n",
      "[optimizing... ] 38.00% 727.0/1913.1secs 0.05it/s[DEBUG   ] 2019-10-04 11:42:03 [optimize.py:84] Params({'num_negative_samples': 1, 'reg_i': 0.027543494381123537, 'reg_j': 0.040375472509046995, 'reg_u': 0.022741293337684966}) Losses({'train_loss': 0.0, 'val_ndcg': 0.04763254210688775, 'val_map': 0.03063412616597471, 'val_accuracy': 0.0756462310108341, 'val_rmse': 2.855763827381752, 'val_error': 2.6219054796099663, 'eval_time': 1570156923.0827465, 'loss': 0.04763254210688775, 'status': 'ok'})\n",
      "[optimizing... ] 39.00% 747.3/1916.3secs 0.05it/s[DEBUG   ] 2019-10-04 11:42:23 [optimize.py:84] Params({'num_negative_samples': 3, 'reg_i': 0.012674754867791141, 'reg_j': 0.02217218859445777, 'reg_u': 0.030523042562769248}) Losses({'train_loss': 0.0, 'val_ndcg': 0.04769863939519789, 'val_map': 0.030434329306971437, 'val_accuracy': 0.07698817302881106, 'val_rmse': 2.92448996855496, 'val_error': 2.6897288073420524, 'eval_time': 1570156943.4580896, 'loss': 0.04769863939519789, 'status': 'ok'})\n",
      "[optimizing... ] 40.00% 766.9/1917.3secs 0.05it/s[DEBUG   ] 2019-10-04 11:42:43 [optimize.py:84] Params({'num_negative_samples': 3, 'reg_i': 0.03273141082988806, 'reg_j': 0.030038645033037624, 'reg_u': 0.03499922792531738}) Losses({'train_loss': 0.0, 'val_ndcg': 0.04741496059788683, 'val_map': 0.030251979605616163, 'val_accuracy': 0.07632353193500171, 'val_rmse': 2.924608704650464, 'val_error': 2.6898746740579607, 'eval_time': 1570156963.0473752, 'loss': 0.04741496059788683, 'status': 'ok'})\n",
      "[optimizing... ] 41.00% 778.9/1899.7secs 0.05it/s[DEBUG   ] 2019-10-04 11:42:54 [optimize.py:84] Params({'num_negative_samples': 1, 'reg_i': 0.015552706135861787, 'reg_j': 0.026571286668474244, 'reg_u': 0.01945055755078623}) Losses({'train_loss': 0.0, 'val_ndcg': 0.04773206973616902, 'val_map': 0.030590519964016634, 'val_accuracy': 0.07641848066268878, 'val_rmse': 2.855812094695889, 'val_error': 2.6219895671248437, 'eval_time': 1570156974.9932623, 'loss': 0.04773206973616902, 'status': 'ok'})\n",
      "[optimizing... ] 42.00% 795.7/1894.5secs 0.05it/s[DEBUG   ] 2019-10-04 11:43:11 [optimize.py:84] Params({'num_negative_samples': 2, 'reg_i': 0.024226660772903093, 'reg_j': 0.010281822247292488, 'reg_u': 0.02624649422677035}) Losses({'train_loss': 0.0, 'val_ndcg': 0.048211605004734294, 'val_map': 0.03134213459476155, 'val_accuracy': 0.07584424374207889, 'val_rmse': 2.8709482896211713, 'val_error': 2.6341738500714302, 'eval_time': 1570156991.8216827, 'loss': 0.048211605004734294, 'status': 'ok'})\n",
      "[optimizing... ] 43.00% 819.0/1904.7secs 0.05it/s[DEBUG   ] 2019-10-04 11:43:35 [optimize.py:84] Params({'num_negative_samples': 4, 'reg_i': 0.01918684236569595, 'reg_j': 0.03699128649075509, 'reg_u': 0.03197520056544497}) Losses({'train_loss': 0.0, 'val_ndcg': 0.04834298569840612, 'val_map': 0.030861491408396096, 'val_accuracy': 0.07791656058841777, 'val_rmse': 2.9751408458868833, 'val_error': 2.742608603668213, 'eval_time': 1570157015.1188595, 'loss': 0.04834298569840612, 'status': 'ok'})\n",
      "[optimizing... ] 44.00% 839.4/1907.8secs 0.05it/s[DEBUG   ] 2019-10-04 11:43:55 [optimize.py:84] Params({'num_negative_samples': 3, 'reg_i': 0.025964969052330016, 'reg_j': 0.0329918573836215, 'reg_u': 0.04233081748408086}) Losses({'train_loss': 0.0, 'val_ndcg': 0.04767119146690885, 'val_map': 0.03039664621668676, 'val_accuracy': 0.07708068717373691, 'val_rmse': 2.9245243220775685, 'val_error': 2.689754583990574, 'eval_time': 1570157035.5619006, 'loss': 0.04767119146690885, 'status': 'ok'})\n",
      "[optimizing... ] 45.00% 855.6/1901.3secs 0.05it/s[DEBUG   ] 2019-10-04 11:44:11 [optimize.py:84] Params({'num_negative_samples': 2, 'reg_i': 0.028272837438350674, 'reg_j': 0.04865808363718516, 'reg_u': 0.010843187952099771}) Losses({'train_loss': 0.0, 'val_ndcg': 0.04836482097371748, 'val_map': 0.03146199940920795, 'val_accuracy': 0.07600492620431851, 'val_rmse': 2.8708544815359085, 'val_error': 2.6340255112528803, 'eval_time': 1570157051.7119784, 'loss': 0.04836482097371748, 'status': 'ok'})\n"
     ]
    },
    {
     "name": "stderr",
     "output_type": "stream",
     "text": [
      "[optimizing... ] 46.00% 867.9/1886.7secs 0.05it/s[DEBUG   ] 2019-10-04 11:44:23 [optimize.py:84] Params({'num_negative_samples': 1, 'reg_i': 0.02168712016040897, 'reg_j': 0.04255660964479449, 'reg_u': 0.036193206717950635}) Losses({'train_loss': 0.0, 'val_ndcg': 0.04844511867376781, 'val_map': 0.0315041687012823, 'val_accuracy': 0.07643747040822618, 'val_rmse': 2.855654207113664, 'val_error': 2.6218178948879243, 'eval_time': 1570157063.9781735, 'loss': 0.04844511867376781, 'status': 'ok'})\n",
      "[optimizing... ] 47.00% 888.1/1889.6secs 0.05it/s[DEBUG   ] 2019-10-04 11:44:44 [optimize.py:84] Params({'num_negative_samples': 3, 'reg_i': 0.03600862711480236, 'reg_j': 0.018234925359684864, 'reg_u': 0.022459533846880344}) Losses({'train_loss': 0.0, 'val_ndcg': 0.047673689562484765, 'val_map': 0.030470005412244948, 'val_accuracy': 0.0768021709058549, 'val_rmse': 2.924780249098762, 'val_error': 2.6900230456471443, 'eval_time': 1570157084.2133822, 'loss': 0.047673689562484765, 'status': 'ok'})\n",
      "[optimizing... ] 48.00% 908.7/1893.1secs 0.05it/s[DEBUG   ] 2019-10-04 11:45:04 [optimize.py:84] Params({'num_negative_samples': 3, 'reg_i': 0.02284108570410919, 'reg_j': 0.04023793520454259, 'reg_u': 0.013767855670109476}) Losses({'train_loss': 0.0, 'val_ndcg': 0.047267162561619315, 'val_map': 0.03021462359683294, 'val_accuracy': 0.07605735088644316, 'val_rmse': 2.9243362855832786, 'val_error': 2.6895451269388198, 'eval_time': 1570157104.8241453, 'loss': 0.047267162561619315, 'status': 'ok'})\n",
      "[optimizing... ] 49.00% 932.8/1903.8secs 0.05it/s[DEBUG   ] 2019-10-04 11:45:28 [optimize.py:84] Params({'num_negative_samples': 4, 'reg_i': 0.01694267588558932, 'reg_j': 0.028339636046770915, 'reg_u': 0.017475875404559214}) Losses({'train_loss': 0.0, 'val_ndcg': 0.048360283260595445, 'val_map': 0.03119909860668187, 'val_accuracy': 0.0771123367496326, 'val_rmse': 2.9748051456685896, 'val_error': 2.7421857723355294, 'eval_time': 1570157128.9596941, 'loss': 0.048360283260595445, 'status': 'ok'})\n",
      "[optimizing... ] 50.00% 949.0/1898.0secs 0.05it/s[DEBUG   ] 2019-10-04 11:45:45 [optimize.py:84] Params({'num_negative_samples': 2, 'reg_i': 0.04244924915271673, 'reg_j': 0.04628954559299753, 'reg_u': 0.011853202326254614}) Losses({'train_loss': 0.0, 'val_ndcg': 0.04844783339014168, 'val_map': 0.031594968655197835, 'val_accuracy': 0.07578021421545916, 'val_rmse': 2.8710261569910007, 'val_error': 2.634329772007465, 'eval_time': 1570157145.1196234, 'loss': 0.04844783339014168, 'status': 'ok'})\n",
      "[optimizing... ] 51.00% 962.0/1886.2secs 0.05it/s[DEBUG   ] 2019-10-04 11:45:58 [optimize.py:84] Params({'num_negative_samples': 1, 'reg_i': 0.010056911420992801, 'reg_j': 0.031442751803800933, 'reg_u': 0.02939898040055784}) Losses({'train_loss': 0.0, 'val_ndcg': 0.04824078895603645, 'val_map': 0.03119774733964147, 'val_accuracy': 0.07615262422516504, 'val_rmse': 2.8561754698070616, 'val_error': 2.622399983346462, 'eval_time': 1570157158.0761974, 'loss': 0.04824078895603645, 'status': 'ok'})\n",
      "[optimizing... ] 52.00% 982.8/1890.1secs 0.05it/s[DEBUG   ] 2019-10-04 11:46:18 [optimize.py:84] Params({'num_negative_samples': 3, 'reg_i': 0.01425592957447628, 'reg_j': 0.036090593628217496, 'reg_u': 0.01491820557890328}) Losses({'train_loss': 0.0, 'val_ndcg': 0.04766578217766708, 'val_map': 0.030549876214992073, 'val_accuracy': 0.07656617868353528, 'val_rmse': 2.924405478554622, 'val_error': 2.689652956330776, 'eval_time': 1570157178.9631388, 'loss': 0.04766578217766708, 'status': 'ok'})\n",
      "[optimizing... ] 53.00% 1003.5/1893.4secs 0.05it/s[DEBUG   ] 2019-10-04 11:46:39 [optimize.py:84] Params({'num_negative_samples': 3, 'reg_i': 0.02500893605812418, 'reg_j': 0.022357678654885478, 'reg_u': 0.03258509596709324}) Losses({'train_loss': 0.0, 'val_ndcg': 0.0473909419479753, 'val_map': 0.030283127345549374, 'val_accuracy': 0.07622614862455346, 'val_rmse': 2.9244646437613246, 'val_error': 2.6896315629959107, 'eval_time': 1570157199.6215274, 'loss': 0.0473909419479753, 'status': 'ok'})\n",
      "[optimizing... ] 54.00% 1024.0/1896.4secs 0.05it/s[DEBUG   ] 2019-10-04 11:47:00 [optimize.py:84] Params({'num_negative_samples': 3, 'reg_i': 0.03174987961779366, 'reg_j': 0.04461625018377613, 'reg_u': 0.026197371942690787}) Losses({'train_loss': 0.0, 'val_ndcg': 0.04722766077689618, 'val_map': 0.030098703974985812, 'val_accuracy': 0.07600460159328368, 'val_rmse': 2.9246001738383405, 'val_error': 2.689822848236561, 'eval_time': 1570157220.1549852, 'loss': 0.04722766077689618, 'status': 'ok'})\n",
      "[optimizing... ] 55.00% 1040.3/1891.5secs 0.05it/s[DEBUG   ] 2019-10-04 11:47:16 [optimize.py:84] Params({'num_negative_samples': 2, 'reg_i': 0.019120405583378734, 'reg_j': 0.04758283852622882, 'reg_u': 0.04897198753877835}) Losses({'train_loss': 0.0, 'val_ndcg': 0.04832227575281344, 'val_map': 0.03138094635246178, 'val_accuracy': 0.0766453026232745, 'val_rmse': 2.871083824057027, 'val_error': 2.6342355666041373, 'eval_time': 1570157236.455841, 'loss': 0.04832227575281344, 'status': 'ok'})\n",
      "[optimizing... ] 56.00% 1053.3/1880.9secs 0.05it/s[DEBUG   ] 2019-10-04 11:47:29 [optimize.py:84] Params({'num_negative_samples': 1, 'reg_i': 0.028482801762837844, 'reg_j': 0.034279306052352514, 'reg_u': 0.01698286861931507}) Losses({'train_loss': 0.0, 'val_ndcg': 0.04798505897396016, 'val_map': 0.03071345105540214, 'val_accuracy': 0.07664754012076457, 'val_rmse': 2.855624675014134, 'val_error': 2.6218249955654143, 'eval_time': 1570157249.400346, 'loss': 0.04798505897396016, 'status': 'ok'})\n",
      "[optimizing... ] 57.00% 1077.3/1889.9secs 0.05it/s[DEBUG   ] 2019-10-04 11:47:53 [optimize.py:84] Params({'num_negative_samples': 4, 'reg_i': 0.034248517255195496, 'reg_j': 0.02685170849204824, 'reg_u': 0.03869616540010076}) Losses({'train_loss': 0.0, 'val_ndcg': 0.04722360702830914, 'val_map': 0.02996008636817605, 'val_accuracy': 0.07676662599754128, 'val_rmse': 2.9753539946457774, 'val_error': 2.7426872977137564, 'eval_time': 1570157273.3849444, 'loss': 0.04722360702830914, 'status': 'ok'})\n",
      "[INFO    ] 2019-10-04 11:48:15 [optimize.py:73] Found new best parameters: {'num_negative_samples': 3, 'reg_i': 0.022375571379744608, 'reg_j': 0.04350461746145798, 'reg_u': 0.044975905220846886} @ iter 58\n",
      "[INFO    ] 2019-10-04 11:48:15 [optimize.py:79] Saving model... to models/bpr-best-model.bin\n",
      "[optimizing... ] 58.00% 1099.0/1894.9secs 0.05it/s[DEBUG   ] 2019-10-04 11:48:15 [optimize.py:84] Params({'num_negative_samples': 3, 'reg_i': 0.022375571379744608, 'reg_j': 0.04350461746145798, 'reg_u': 0.044975905220846886}) Losses({'train_loss': 0.0, 'val_ndcg': 0.04682917843070606, 'val_map': 0.02983502784157934, 'val_accuracy': 0.07521336219589161, 'val_rmse': 2.924483305000444, 'val_error': 2.68965353603363, 'eval_time': 1570157295.1042256, 'loss': 0.04682917843070606, 'status': 'ok'})\n",
      "[optimizing... ] 59.00% 1120.4/1898.9secs 0.05it/s[DEBUG   ] 2019-10-04 11:48:36 [optimize.py:84] Params({'num_negative_samples': 3, 'reg_i': 0.030912442319680232, 'reg_j': 0.043614564019623214, 'reg_u': 0.047094251161405594}) Losses({'train_loss': 0.0, 'val_ndcg': 0.04800428472694104, 'val_map': 0.030713921911621003, 'val_accuracy': 0.077270584629111, 'val_rmse': 2.9245207831729076, 'val_error': 2.689768622136116, 'eval_time': 1570157316.4848554, 'loss': 0.04800428472694104, 'status': 'ok'})\n",
      "[optimizing... ] 60.00% 1140.6/1900.9secs 0.05it/s[DEBUG   ] 2019-10-04 11:48:56 [optimize.py:84] Params({'num_negative_samples': 3, 'reg_i': 0.022923834116920134, 'reg_j': 0.03932832703835519, 'reg_u': 0.044437190499465436}) Losses({'train_loss': 0.0, 'val_ndcg': 0.04690849650029641, 'val_map': 0.029955823722914506, 'val_accuracy': 0.07541169953817123, 'val_rmse': 2.9244362768701078, 'val_error': 2.689651899433136, 'eval_time': 1570157336.6704645, 'loss': 0.04690849650029641, 'status': 'ok'})\n",
      "[optimizing... ] 61.00% 1162.4/1905.6secs 0.05it/s[DEBUG   ] 2019-10-04 11:49:18 [optimize.py:84] Params({'num_negative_samples': 3, 'reg_i': 0.04980799626968133, 'reg_j': 0.04106638962149495, 'reg_u': 0.04499359823914574}) Losses({'train_loss': 0.0, 'val_ndcg': 0.047754360340245834, 'val_map': 0.030619583149966764, 'val_accuracy': 0.07661438342220718, 'val_rmse': 2.924716074676842, 'val_error': 2.6899354251503946, 'eval_time': 1570157358.5189557, 'loss': 0.047754360340245834, 'status': 'ok'})\n"
     ]
    },
    {
     "name": "stderr",
     "output_type": "stream",
     "text": [
      "[optimizing... ] 62.00% 1179.1/1901.8secs 0.05it/s[DEBUG   ] 2019-10-04 11:49:35 [optimize.py:84] Params({'num_negative_samples': 2, 'reg_i': 0.022783072562501568, 'reg_j': 0.03892057100877132, 'reg_u': 0.041114607463133876}) Losses({'train_loss': 0.0, 'val_ndcg': 0.04831050091337631, 'val_map': 0.03152193014185042, 'val_accuracy': 0.07559031676008506, 'val_rmse': 2.870754693765659, 'val_error': 2.63390600284338, 'eval_time': 1570157375.2022545, 'loss': 0.04831050091337631, 'status': 'ok'})\n",
      "[optimizing... ] 63.00% 1202.4/1908.6secs 0.05it/s[DEBUG   ] 2019-10-04 11:49:58 [optimize.py:84] Params({'num_negative_samples': 4, 'reg_i': 0.037562014058192754, 'reg_j': 0.03813386389257914, 'reg_u': 0.04377996234162213}) Losses({'train_loss': 0.0, 'val_ndcg': 0.04855128899246194, 'val_map': 0.031131517551950535, 'val_accuracy': 0.07796930988157723, 'val_rmse': 2.975339829053369, 'val_error': 2.742764629125595, 'eval_time': 1570157398.5481827, 'loss': 0.04855128899246194, 'status': 'ok'})\n",
      "[optimizing... ] 64.00% 1214.3/1897.4secs 0.05it/s[DEBUG   ] 2019-10-04 11:50:10 [optimize.py:84] Params({'num_negative_samples': 1, 'reg_i': 0.025270573758929576, 'reg_j': 0.04659528229170035, 'reg_u': 0.04975885652710606}) Losses({'train_loss': 0.0, 'val_ndcg': 0.04769019730976909, 'val_map': 0.030609957659900724, 'val_accuracy': 0.07583823843793458, 'val_rmse': 2.8553471764254934, 'val_error': 2.6214394141077997, 'eval_time': 1570157410.4422133, 'loss': 0.04769019730976909, 'status': 'ok'})\n",
      "[optimizing... ] 65.00% 1233.5/1897.8secs 0.05it/s[DEBUG   ] 2019-10-04 11:50:29 [optimize.py:84] Params({'num_negative_samples': 3, 'reg_i': 0.04088956024544606, 'reg_j': 0.04532685291514645, 'reg_u': 0.03765384656231121}) Losses({'train_loss': 0.0, 'val_ndcg': 0.04742567762469463, 'val_map': 0.030170324118450484, 'val_accuracy': 0.07638439650403188, 'val_rmse': 2.9248396555307767, 'val_error': 2.6900735173225403, 'eval_time': 1570157429.652818, 'loss': 0.04742567762469463, 'status': 'ok'})\n",
      "[optimizing... ] 66.00% 1254.0/1899.9secs 0.05it/s[DEBUG   ] 2019-10-04 11:50:50 [optimize.py:84] Params({'num_negative_samples': 3, 'reg_i': 0.014857906135776842, 'reg_j': 0.034508125171664565, 'reg_u': 0.03400773689818971}) Losses({'train_loss': 0.0, 'val_ndcg': 0.04763679812475152, 'val_map': 0.030459284028700604, 'val_accuracy': 0.07666924268709302, 'val_rmse': 2.9245696193503985, 'val_error': 2.689849317479134, 'eval_time': 1570157450.0766451, 'loss': 0.04763679812475152, 'status': 'ok'})\n",
      "[optimizing... ] 67.00% 1274.9/1902.8secs 0.05it/s[DEBUG   ] 2019-10-04 11:51:10 [optimize.py:84] Params({'num_negative_samples': 3, 'reg_i': 0.020063856892917988, 'reg_j': 0.032231848163627445, 'reg_u': 0.04004181185543969}) Losses({'train_loss': 0.0, 'val_ndcg': 0.047786015842549504, 'val_map': 0.030500817817385926, 'val_accuracy': 0.07733631836366357, 'val_rmse': 2.924762656098502, 'val_error': 2.6900011190891266, 'eval_time': 1570157470.9831324, 'loss': 0.047786015842549504, 'status': 'ok'})\n",
      "[optimizing... ] 68.00% 1295.7/1905.5secs 0.05it/s[DEBUG   ] 2019-10-04 11:51:31 [optimize.py:84] Params({'num_negative_samples': 3, 'reg_i': 0.027286876564379257, 'reg_j': 0.03933438181577916, 'reg_u': 0.0447945365015033}) Losses({'train_loss': 0.0, 'val_ndcg': 0.047644323192026446, 'val_map': 0.030348872940181987, 'val_accuracy': 0.07698573844604985, 'val_rmse': 2.924689180406206, 'val_error': 2.6898988160729407, 'eval_time': 1570157491.8277638, 'loss': 0.047644323192026446, 'status': 'ok'})\n",
      "[optimizing... ] 69.00% 1316.2/1907.6secs 0.05it/s[DEBUG   ] 2019-10-04 11:51:52 [optimize.py:84] Params({'num_negative_samples': 3, 'reg_i': 0.02349586375324879, 'reg_j': 0.04369033770369371, 'reg_u': 0.04685780928046461}) Losses({'train_loss': 0.0, 'val_ndcg': 0.04774433622484949, 'val_map': 0.030533771772061437, 'val_accuracy': 0.07652998455315202, 'val_rmse': 2.9248570808256074, 'val_error': 2.690084333717823, 'eval_time': 1570157512.3550947, 'loss': 0.04774433622484949, 'status': 'ok'})\n",
      "[optimizing... ] 70.00% 1337.1/1910.1secs 0.05it/s[DEBUG   ] 2019-10-04 11:52:13 [optimize.py:84] Params({'num_negative_samples': 3, 'reg_i': 0.017678382990579097, 'reg_j': 0.029102424014914724, 'reg_u': 0.04328354696893588}) Losses({'train_loss': 0.0, 'val_ndcg': 0.047721383361797556, 'val_map': 0.030611233690420958, 'val_accuracy': 0.07651342939037582, 'val_rmse': 2.92450347732419, 'val_error': 2.6896763978242872, 'eval_time': 1570157533.1769567, 'loss': 0.047721383361797556, 'status': 'ok'})\n",
      "[optimizing... ] 71.00% 1358.6/1913.6secs 0.05it/s[DEBUG   ] 2019-10-04 11:52:34 [optimize.py:84] Params({'num_negative_samples': 3, 'reg_i': 0.022052519593909095, 'reg_j': 0.035909428149541955, 'reg_u': 0.0413798898712165}) Losses({'train_loss': 0.0, 'val_ndcg': 0.04759963116638092, 'val_map': 0.030454701418905758, 'val_accuracy': 0.07653452910763961, 'val_rmse': 2.9245709403951565, 'val_error': 2.689772977125645, 'eval_time': 1570157554.756072, 'loss': 0.04759963116638092, 'status': 'ok'})\n",
      "[optimizing... ] 72.00% 1380.2/1916.9secs 0.05it/s[DEBUG   ] 2019-10-04 11:52:56 [optimize.py:84] Params({'num_negative_samples': 3, 'reg_i': 0.019732872468671166, 'reg_j': 0.037477908822250716, 'reg_u': 0.04538356868692065}) Losses({'train_loss': 0.0, 'val_ndcg': 0.047138868392749195, 'val_map': 0.029990667561562646, 'val_accuracy': 0.07632353193500171, 'val_rmse': 2.924813940069122, 'val_error': 2.6900072052121162, 'eval_time': 1570157576.291841, 'loss': 0.047138868392749195, 'status': 'ok'})\n",
      "[optimizing... ] 73.00% 1401.2/1919.5secs 0.05it/s[DEBUG   ] 2019-10-04 11:53:17 [optimize.py:84] Params({'num_negative_samples': 3, 'reg_i': 0.012446175349381278, 'reg_j': 0.04192371108211982, 'reg_u': 0.0365471455293994}) Losses({'train_loss': 0.0, 'val_ndcg': 0.04745040416042724, 'val_map': 0.0301866998434602, 'val_accuracy': 0.07692243929425849, 'val_rmse': 2.9245248252887355, 'val_error': 2.689659867298603, 'eval_time': 1570157597.33115, 'loss': 0.04745040416042724, 'status': 'ok'})\n",
      "[optimizing... ] 74.00% 1421.6/1921.1secs 0.05it/s[DEBUG   ] 2019-10-04 11:53:37 [optimize.py:84] Params({'num_negative_samples': 3, 'reg_i': 0.028970088553897894, 'reg_j': 0.0485388597239987, 'reg_u': 0.04829984706157596}) Losses({'train_loss': 0.0, 'val_ndcg': 0.047947148066976863, 'val_map': 0.030748438907993482, 'val_accuracy': 0.07704903759784122, 'val_rmse': 2.9246229845789484, 'val_error': 2.6898977103590966, 'eval_time': 1570157617.7406106, 'loss': 0.047947148066976863, 'status': 'ok'})\n",
      "[optimizing... ] 75.00% 1442.1/1922.8secs 0.05it/s[DEBUG   ] 2019-10-04 11:53:58 [optimize.py:84] Params({'num_negative_samples': 3, 'reg_i': 0.0264317680879595, 'reg_j': 0.03975774221421367, 'reg_u': 0.04984657919617435}) Losses({'train_loss': 0.0, 'val_ndcg': 0.04743740945237289, 'val_map': 0.030299174852734995, 'val_accuracy': 0.07622614862455347, 'val_rmse': 2.924410165365022, 'val_error': 2.6896498950362204, 'eval_time': 1570157638.1871233, 'loss': 0.04743740945237289, 'status': 'ok'})\n",
      "[optimizing... ] 76.00% 1463.0/1924.9secs 0.05it/s[DEBUG   ] 2019-10-04 11:54:19 [optimize.py:84] Params({'num_negative_samples': 3, 'reg_i': 0.0181676765405483, 'reg_j': 0.043097383305785116, 'reg_u': 0.042736941533241445}) Losses({'train_loss': 0.0, 'val_ndcg': 0.04777583924454029, 'val_map': 0.030489604286524797, 'val_accuracy': 0.07695652345291537, 'val_rmse': 2.9243813053966274, 'val_error': 2.6895830275416373, 'eval_time': 1570157659.0695589, 'loss': 0.04777583924454029, 'status': 'ok'})\n",
      "[optimizing... ] 77.00% 1487.3/1931.5secs 0.05it/s[DEBUG   ] 2019-10-04 11:54:43 [optimize.py:84] Params({'num_negative_samples': 4, 'reg_i': 0.016494263689354687, 'reg_j': 0.040865470343724244, 'reg_u': 0.0459294046682327}) Losses({'train_loss': 0.0, 'val_ndcg': 0.04793491825283361, 'val_map': 0.030794552555376734, 'val_accuracy': 0.07670089226298869, 'val_rmse': 2.9752550461479026, 'val_error': 2.7427291400551796, 'eval_time': 1570157683.381832, 'loss': 0.04793491825283361, 'status': 'ok'})\n",
      "[optimizing... ] 78.00% 1503.8/1928.0secs 0.05it/s[DEBUG   ] 2019-10-04 11:54:59 [optimize.py:84] Params({'num_negative_samples': 2, 'reg_i': 0.024368318982475757, 'reg_j': 0.02977566823017999, 'reg_u': 0.03397263846628396}) Losses({'train_loss': 0.0, 'val_ndcg': 0.048547532736072894, 'val_map': 0.03190825591746599, 'val_accuracy': 0.07543734380992259, 'val_rmse': 2.871244516315657, 'val_error': 2.634446611082554, 'eval_time': 1570157699.9265664, 'loss': 0.048547532736072894, 'status': 'ok'})\n"
     ]
    },
    {
     "name": "stderr",
     "output_type": "stream",
     "text": [
      "[optimizing... ] 79.00% 1524.4/1929.6secs 0.05it/s[DEBUG   ] 2019-10-04 11:55:20 [optimize.py:84] Params({'num_negative_samples': 3, 'reg_i': 0.020585599925194896, 'reg_j': 0.025194498121257097, 'reg_u': 0.037612637108029603}) Losses({'train_loss': 0.0, 'val_ndcg': 0.04723085026307073, 'val_map': 0.030163369584657103, 'val_accuracy': 0.07595217691115905, 'val_rmse': 2.9245297328847055, 'val_error': 2.6897382814645767, 'eval_time': 1570157720.4831424, 'loss': 0.04723085026307073, 'status': 'ok'})\n",
      "[optimizing... ] 80.00% 1536.3/1920.4secs 0.05it/s[DEBUG   ] 2019-10-04 11:55:32 [optimize.py:84] Params({'num_negative_samples': 1, 'reg_i': 0.034256843235990056, 'reg_j': 0.035263405023110914, 'reg_u': 0.03970631450848239}) Losses({'train_loss': 0.0, 'val_ndcg': 0.04774068324917767, 'val_map': 0.030789420802713668, 'val_accuracy': 0.07563357118047584, 'val_rmse': 2.85585417469523, 'val_error': 2.6219527625799177, 'eval_time': 1570157732.4315143, 'loss': 0.04774068324917767, 'status': 'ok'})\n",
      "[optimizing... ] 81.00% 1555.9/1920.8secs 0.05it/s[DEBUG   ] 2019-10-04 11:55:51 [optimize.py:84] Params({'num_negative_samples': 3, 'reg_i': 0.01595480115639559, 'reg_j': 0.045726778456553444, 'reg_u': 0.030352084162953805}) Losses({'train_loss': 0.0, 'val_ndcg': 0.04753817587278852, 'val_map': 0.03039740910782454, 'val_accuracy': 0.0761628494727621, 'val_rmse': 2.92456817250158, 'val_error': 2.689814036822319, 'eval_time': 1570157751.9656465, 'loss': 0.04753817587278852, 'status': 'ok'})\n",
      "[optimizing... ] 82.00% 1576.0/1921.9secs 0.05it/s[DEBUG   ] 2019-10-04 11:56:12 [optimize.py:84] Params({'num_negative_samples': 3, 'reg_i': 0.011294475685502896, 'reg_j': 0.0334051244366215, 'reg_u': 0.02377691063656496}) Losses({'train_loss': 0.0, 'val_ndcg': 0.04764646209867743, 'val_map': 0.030394828459298667, 'val_accuracy': 0.07705747748474673, 'val_rmse': 2.924484027630807, 'val_error': 2.6896821697592737, 'eval_time': 1570157772.0808, 'loss': 0.04764646209867743, 'status': 'ok'})\n",
      "[optimizing... ] 83.00% 1599.7/1927.4secs 0.05it/s[DEBUG   ] 2019-10-04 11:56:35 [optimize.py:84] Params({'num_negative_samples': 4, 'reg_i': 0.02980601930985053, 'reg_j': 0.037466034810703264, 'reg_u': 0.047779548618908554}) Losses({'train_loss': 0.0, 'val_ndcg': 0.04759565158417446, 'val_map': 0.03055011484274685, 'val_accuracy': 0.0763717366736736, 'val_rmse': 2.975349375997871, 'val_error': 2.7427967935204505, 'eval_time': 1570157795.827583, 'loss': 0.04759565158417446, 'status': 'ok'})\n",
      "[optimizing... ] 84.00% 1620.8/1929.5secs 0.05it/s[DEBUG   ] 2019-10-04 11:56:56 [optimize.py:84] Params({'num_negative_samples': 3, 'reg_i': 0.03291580909681818, 'reg_j': 0.04135176251083185, 'reg_u': 0.041721035060349194}) Losses({'train_loss': 0.0, 'val_ndcg': 0.048308092726549734, 'val_map': 0.03107300698338445, 'val_accuracy': 0.07742883250858941, 'val_rmse': 2.9246268983026797, 'val_error': 2.6897946279525757, 'eval_time': 1570157816.9046855, 'loss': 0.048308092726549734, 'status': 'ok'})\n",
      "[optimizing... ] 85.00% 1637.6/1926.6secs 0.05it/s[DEBUG   ] 2019-10-04 11:57:13 [optimize.py:84] Params({'num_negative_samples': 2, 'reg_i': 0.025634572609962693, 'reg_j': 0.03149131353337523, 'reg_u': 0.03534453559212446}) Losses({'train_loss': 0.0, 'val_ndcg': 0.04860194829184797, 'val_map': 0.03175792126925186, 'val_accuracy': 0.07636573136952929, 'val_rmse': 2.871066806123834, 'val_error': 2.63420005068779, 'eval_time': 1570157833.756345, 'loss': 0.04860194829184797, 'status': 'ok'})\n",
      "[optimizing... ] 86.00% 1650.7/1919.4secs 0.05it/s[DEBUG   ] 2019-10-04 11:57:26 [optimize.py:84] Params({'num_negative_samples': 1, 'reg_i': 0.023698307483086385, 'reg_j': 0.033832143208110295, 'reg_u': 0.03130750058274129}) Losses({'train_loss': 0.0, 'val_ndcg': 0.047506954593371516, 'val_map': 0.030602005075989144, 'val_accuracy': 0.07491829076523339, 'val_rmse': 2.8560034688169047, 'val_error': 2.622136139810085, 'eval_time': 1570157846.8173773, 'loss': 0.047506954593371516, 'status': 'ok'})\n",
      "[optimizing... ] 87.00% 1671.5/1921.2secs 0.05it/s[DEBUG   ] 2019-10-04 11:57:47 [optimize.py:84] Params({'num_negative_samples': 3, 'reg_i': 0.027637440935380404, 'reg_j': 0.027089118217940928, 'reg_u': 0.02885126979268267}) Losses({'train_loss': 0.0, 'val_ndcg': 0.0472426179058849, 'val_map': 0.030165517234450025, 'val_accuracy': 0.07583580385517337, 'val_rmse': 2.924456726953002, 'val_error': 2.689611522233486, 'eval_time': 1570157867.586545, 'loss': 0.0472426179058849, 'status': 'ok'})\n",
      "[optimizing... ] 88.00% 1692.6/1923.4secs 0.05it/s[DEBUG   ] 2019-10-04 11:58:08 [optimize.py:84] Params({'num_negative_samples': 3, 'reg_i': 0.014711763941659744, 'reg_j': 0.036439528880072077, 'reg_u': 0.045991574870945205}) Losses({'train_loss': 0.0, 'val_ndcg': 0.0474987298416972, 'val_map': 0.030364325971206602, 'val_accuracy': 0.07643747040822618, 'val_rmse': 2.9245030864160793, 'val_error': 2.6897913898825645, 'eval_time': 1570157888.7150295, 'loss': 0.0474987298416972, 'status': 'ok'})\n",
      "[optimizing... ] 89.00% 1714.2/1926.1secs 0.05it/s[DEBUG   ] 2019-10-04 11:58:30 [optimize.py:84] Params({'num_negative_samples': 3, 'reg_i': 0.022050732757608715, 'reg_j': 0.025744596714803135, 'reg_u': 0.026986166779937253}) Losses({'train_loss': 0.0, 'val_ndcg': 0.04759367247150659, 'val_map': 0.030479252447064852, 'val_accuracy': 0.07659782825943097, 'val_rmse': 2.9242945479068214, 'val_error': 2.6895191883683203, 'eval_time': 1570157910.3536983, 'loss': 0.04759367247150659, 'status': 'ok'})\n",
      "[optimizing... ] 90.00% 1739.2/1932.4secs 0.05it/s[DEBUG   ] 2019-10-04 11:58:55 [optimize.py:84] Params({'num_negative_samples': 4, 'reg_i': 0.013332804428404173, 'reg_j': 0.04748673749417324, 'reg_u': 0.020539742124610835}) Losses({'train_loss': 0.0, 'val_ndcg': 0.048869805927868215, 'val_map': 0.03174278640856692, 'val_accuracy': 0.07712532119102569, 'val_rmse': 2.975096069120025, 'val_error': 2.7424744323015213, 'eval_time': 1570157935.309264, 'loss': 0.048869805927868215, 'status': 'ok'})\n",
      "[optimizing... ] 91.00% 1756.5/1930.2secs 0.05it/s[DEBUG   ] 2019-10-04 11:59:12 [optimize.py:84] Params({'num_negative_samples': 2, 'reg_i': 0.04584815043909095, 'reg_j': 0.02190530810189663, 'reg_u': 0.03682623279598986}) Losses({'train_loss': 0.0, 'val_ndcg': 0.048157186404949114, 'val_map': 0.031061943746144318, 'val_accuracy': 0.07675680651373774, 'val_rmse': 2.8711148798215693, 'val_error': 2.6342030953884126, 'eval_time': 1570157952.5860116, 'loss': 0.048157186404949114, 'status': 'ok'})\n",
      "[optimizing... ] 92.00% 1776.7/1931.1secs 0.05it/s[DEBUG   ] 2019-10-04 11:59:32 [optimize.py:84] Params({'num_negative_samples': 3, 'reg_i': 0.030634622649428483, 'reg_j': 0.0320363344927621, 'reg_u': 0.03817257405260783}) Losses({'train_loss': 0.0, 'val_ndcg': 0.04728099278534647, 'val_map': 0.0301794179291331, 'val_accuracy': 0.07588043787246215, 'val_rmse': 2.9247928027909267, 'val_error': 2.6900042458176614, 'eval_time': 1570157972.7718174, 'loss': 0.04728099278534647, 'status': 'ok'})\n",
      "[optimizing... ] 93.00% 1788.7/1923.4secs 0.05it/s[DEBUG   ] 2019-10-04 11:59:44 [optimize.py:84] Params({'num_negative_samples': 1, 'reg_i': 0.017538726782540797, 'reg_j': 0.035260610356210136, 'reg_u': 0.04901319103617132}) Losses({'train_loss': 0.0, 'val_ndcg': 0.04831231522810901, 'val_map': 0.031102582591039565, 'val_accuracy': 0.07697551319845279, 'val_rmse': 2.8557800501337463, 'val_error': 2.6219542179822923, 'eval_time': 1570157984.8344886, 'loss': 0.04831231522810901, 'status': 'ok'})\n",
      "[optimizing... ] 94.00% 1809.0/1924.4secs 0.05it/s[DEBUG   ] 2019-10-04 12:00:05 [optimize.py:84] Params({'num_negative_samples': 3, 'reg_i': 0.020916131335427968, 'reg_j': 0.038187710197069305, 'reg_u': 0.02137529790059356}) Losses({'train_loss': 0.0, 'val_ndcg': 0.04730272699630572, 'val_map': 0.030073853196875125, 'val_accuracy': 0.07654264438351029, 'val_rmse': 2.9247501703583394, 'val_error': 2.6899995397925376, 'eval_time': 1570158005.089697, 'loss': 0.04730272699630572, 'status': 'ok'})\n",
      "[optimizing... ] 95.00% 1828.9/1925.1secs 0.05it/s[DEBUG   ] 2019-10-04 12:00:25 [optimize.py:84] Params({'num_negative_samples': 3, 'reg_i': 0.019666665945211416, 'reg_j': 0.029906385134273065, 'reg_u': 0.04433952796785728}) Losses({'train_loss': 0.0, 'val_ndcg': 0.047598246706862475, 'val_map': 0.03032987326677308, 'val_accuracy': 0.07698573844604985, 'val_rmse': 2.9247003075310105, 'val_error': 2.689883727502823, 'eval_time': 1570158025.0031564, 'loss': 0.047598246706862475, 'status': 'ok'})\n"
     ]
    },
    {
     "name": "stderr",
     "output_type": "stream",
     "text": [
      "[optimizing... ] 96.00% 1852.0/1929.1secs 0.05it/s[DEBUG   ] 2019-10-04 12:00:48 [optimize.py:84] Params({'num_negative_samples': 4, 'reg_i': 0.035902763065660474, 'reg_j': 0.028743615657162106, 'reg_u': 0.03924210177527224}) Losses({'train_loss': 0.0, 'val_ndcg': 0.047811610183556195, 'val_map': 0.03103042478754598, 'val_accuracy': 0.07535083496914106, 'val_rmse': 2.975333072866642, 'val_error': 2.7427518073558805, 'eval_time': 1570158048.0657687, 'loss': 0.047811610183556195, 'status': 'ok'})\n",
      "[optimizing... ] 97.00% 1873.0/1931.0secs 0.05it/s[DEBUG   ] 2019-10-04 12:01:09 [optimize.py:84] Params({'num_negative_samples': 3, 'reg_i': 0.010458795687584926, 'reg_j': 0.0442140636846585, 'reg_u': 0.025613403778138172}) Losses({'train_loss': 0.0, 'val_ndcg': 0.04719021370410452, 'val_map': 0.0299987490881908, 'val_accuracy': 0.07634463165226552, 'val_rmse': 2.9245545107471904, 'val_error': 2.6898054398298266, 'eval_time': 1570158069.1429918, 'loss': 0.04719021370410452, 'status': 'ok'})\n",
      "[optimizing... ] 98.00% 1885.6/1924.1secs 0.05it/s[DEBUG   ] 2019-10-04 12:01:21 [optimize.py:84] Params({'num_negative_samples': 1, 'reg_i': 0.012073251653450141, 'reg_j': 0.02352912971956539, 'reg_u': 0.04014597334697618}) Losses({'train_loss': 0.0, 'val_ndcg': 0.04822028759489986, 'val_map': 0.031338170862161265, 'val_accuracy': 0.07589942761799959, 'val_rmse': 2.8558011463971416, 'val_error': 2.621945445847511, 'eval_time': 1570158081.7032447, 'loss': 0.04822028759489986, 'status': 'ok'})\n",
      "[optimizing... ] 99.00% 1902.8/1922.0secs 0.05it/s[DEBUG   ] 2019-10-04 12:01:38 [optimize.py:84] Params({'num_negative_samples': 2, 'reg_i': 0.027082481093385458, 'reg_j': 0.0426739714123447, 'reg_u': 0.0193476271760682}) Losses({'train_loss': 0.0, 'val_ndcg': 0.04840506316685578, 'val_map': 0.031351600162367384, 'val_accuracy': 0.07649760460242798, 'val_rmse': 2.8710501995462208, 'val_error': 2.6341703974485395, 'eval_time': 1570158098.87604, 'loss': 0.04840506316685578, 'status': 'ok'})\n",
      "[optimizing... ] 100.00% 1923.4/1923.4secs 0.05it/s[DEBUG   ] 2019-10-04 12:01:59 [optimize.py:84] Params({'num_negative_samples': 3, 'reg_i': 0.018609411460592445, 'reg_j': 0.04924934806517977, 'reg_u': 0.04246584787648294}) Losses({'train_loss': 0.0, 'val_ndcg': 0.047234004232335404, 'val_map': 0.03024306413778184, 'val_accuracy': 0.07562480668253548, 'val_rmse': 2.924650463603923, 'val_error': 2.6898879727005958, 'eval_time': 1570158119.4665937, 'loss': 0.047234004232335404, 'status': 'ok'})\n",
      "[optimizing... ] 100.00% 1923.4/1923.4secs 0.05it/s\n"
     ]
    },
    {
     "data": {
      "text/plain": [
       "{'trials': <hyperopt.base.Trials at 0x7eff20bf4a90>,\n",
       " 'best': {'train_loss': 0.0,\n",
       "  'val_ndcg': 0.04682917843070606,\n",
       "  'val_map': 0.02983502784157934,\n",
       "  'val_accuracy': 0.07521336219589161,\n",
       "  'val_rmse': 2.924483305000444,\n",
       "  'val_error': 2.68965353603363,\n",
       "  'eval_time': 1570157295.1042256,\n",
       "  'loss': 0.04682917843070606,\n",
       "  'status': 'ok'},\n",
       " 'best_parameters': {'num_negative_samples': 3,\n",
       "  'reg_i': 0.022375571379744608,\n",
       "  'reg_j': 0.04350461746145798,\n",
       "  'reg_u': 0.044975905220846886}}"
      ]
     },
     "execution_count": 7,
     "metadata": {},
     "output_type": "execute_result"
    }
   ],
   "source": [
    "!mkdir models\n",
    "bpr.opt.model_path = \"models/bpr-best-model.bin\"\n",
    "bpr.optimize()"
   ]
  },
  {
   "cell_type": "code",
   "execution_count": 8,
   "metadata": {},
   "outputs": [],
   "source": [
    "validation_res = bpr.get_optimization_data()"
   ]
  },
  {
   "cell_type": "markdown",
   "metadata": {},
   "source": [
    "best parameter found is "
   ]
  },
  {
   "cell_type": "code",
   "execution_count": 9,
   "metadata": {},
   "outputs": [
    {
     "data": {
      "text/plain": [
       "{'trials': <hyperopt.base.Trials at 0x7eff20bf4a90>,\n",
       " 'best': {'train_loss': 0.0,\n",
       "  'val_ndcg': 0.04682917843070606,\n",
       "  'val_map': 0.02983502784157934,\n",
       "  'val_accuracy': 0.07521336219589161,\n",
       "  'val_rmse': 2.924483305000444,\n",
       "  'val_error': 2.68965353603363,\n",
       "  'eval_time': 1570157295.1042256,\n",
       "  'loss': 0.04682917843070606,\n",
       "  'status': 'ok'},\n",
       " 'best_parameters': {'num_negative_samples': 3,\n",
       "  'reg_i': 0.022375571379744608,\n",
       "  'reg_j': 0.04350461746145798,\n",
       "  'reg_u': 0.044975905220846886}}"
      ]
     },
     "execution_count": 9,
     "metadata": {},
     "output_type": "execute_result"
    }
   ],
   "source": [
    "validation_res"
   ]
  }
 ],
 "metadata": {
  "kernelspec": {
   "display_name": "Python 3",
   "language": "python",
   "name": "python3"
  },
  "language_info": {
   "codemirror_mode": {
    "name": "ipython",
    "version": 3
   },
   "file_extension": ".py",
   "mimetype": "text/x-python",
   "name": "python",
   "nbconvert_exporter": "python",
   "pygments_lexer": "ipython3",
   "version": "3.7.3"
  }
 },
 "nbformat": 4,
 "nbformat_minor": 2
}
