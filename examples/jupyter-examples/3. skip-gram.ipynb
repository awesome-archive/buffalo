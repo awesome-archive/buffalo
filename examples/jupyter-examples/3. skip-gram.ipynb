{
 "cells": [
  {
   "cell_type": "markdown",
   "metadata": {},
   "source": [
    "#### Buffalo's  word2vec only supports skip-gram  word2vec algorithm (No HS)"
   ]
  },
  {
   "cell_type": "code",
   "execution_count": 1,
   "metadata": {},
   "outputs": [],
   "source": [
    "from buffalo.algo.w2v import W2V\n",
    "from buffalo.algo.options import W2VOption\n",
    "from buffalo.data.stream import StreamOptions\n",
    "from buffalo.misc import aux, log\n",
    "from buffalo.misc.log import set_log_level\n",
    "log.set_log_level(1) # set log level 3 or higher to check more information"
   ]
  },
  {
   "cell_type": "code",
   "execution_count": 2,
   "metadata": {},
   "outputs": [
    {
     "data": {
      "text/plain": [
       "{'evaluation_on_learning': False,\n",
       " 'compute_loss_on_training': True,\n",
       " 'early_stopping_rounds': 0,\n",
       " 'save_best': False,\n",
       " 'evaluation_period': 1,\n",
       " 'save_period': 10,\n",
       " 'random_seed': 0,\n",
       " 'validation': {},\n",
       " 'num_workers': 8,\n",
       " 'num_iters': 15,\n",
       " 'd': 100,\n",
       " 'window': 5,\n",
       " 'min_count': 2,\n",
       " 'sample': 0.001,\n",
       " 'lr': 0.025,\n",
       " 'min_lr': 0.0001,\n",
       " 'num_negative_samples': 5,\n",
       " 'model_path': '',\n",
       " 'data_opt': {}}"
      ]
     },
     "execution_count": 2,
     "metadata": {},
     "output_type": "execute_result"
    }
   ],
   "source": [
    "opt = W2VOption().get_default_option()\n",
    "opt.num_iters = 15\n",
    "opt.num_workers = 8\n",
    "opt.d = 100\n",
    "opt.min_count = 2\n",
    "opt.num_negative_samples = 5           # initialize default Word2vec option\n",
    "opt                                    # Check buffalo/algo/options.py to see further."
   ]
  },
  {
   "cell_type": "code",
   "execution_count": 3,
   "metadata": {},
   "outputs": [],
   "source": [
    "data_opt = StreamOptions().get_default_option()\n",
    "data_opt.input.main = 'data/ml-1m/stream'\n",
    "data_opt.input.iid = 'data/ml-1m/iid'"
   ]
  },
  {
   "cell_type": "code",
   "execution_count": 4,
   "metadata": {
    "scrolled": true
   },
   "outputs": [],
   "source": [
    "w2v_model = W2V(opt, data_opt=data_opt)\n",
    "w2v_model.initialize()"
   ]
  },
  {
   "cell_type": "code",
   "execution_count": 5,
   "metadata": {},
   "outputs": [
    {
     "data": {
      "text/plain": [
       "{}"
      ]
     },
     "execution_count": 5,
     "metadata": {},
     "output_type": "execute_result"
    }
   ],
   "source": [
    "w2v_model.train()"
   ]
  },
  {
   "cell_type": "markdown",
   "metadata": {},
   "source": [
    "### Similar movies to Lion King"
   ]
  },
  {
   "cell_type": "code",
   "execution_count": 6,
   "metadata": {},
   "outputs": [
    {
     "name": "stdout",
     "output_type": "stream",
     "text": [
      "Similar movies to Lion_King,_The_(1994)\n",
      "01. 0.765 Hunchback_of_Notre_Dame,_The_(1996)\n",
      "02. 0.762 Mulan_(1998)\n",
      "03. 0.760 Beauty_and_the_Beast_(1991)\n",
      "04. 0.709 Sleeping_Beauty_(1959)\n",
      "05. 0.685 Cinderella_(1950)\n"
     ]
    }
   ],
   "source": [
    "movie_name = \"Lion_King,_The_(1994)\"\n",
    "print('Similar movies to', movie_name)\n",
    "similar_items = w2v_model.most_similar(movie_name, 5)\n",
    "for rank, (movie_name, score) in enumerate(similar_items):\n",
    "    print(f'{rank + 1:02d}. {score:.3f} {movie_name}')"
   ]
  },
  {
   "cell_type": "markdown",
   "metadata": {},
   "source": [
    "Results are all disney animations, as you expected. word2vec quite work well in recommendation domain."
   ]
  },
  {
   "cell_type": "markdown",
   "metadata": {},
   "source": [
    "### feature vector of SF movies"
   ]
  },
  {
   "cell_type": "code",
   "execution_count": 7,
   "metadata": {},
   "outputs": [
    {
     "name": "stdout",
     "output_type": "stream",
     "text": [
      "2 movie name: Star_Trek:_Generations_(1994) score: 0.80435485\n",
      "3 movie name: Star_Trek_VI:_The_Undiscovered_Country_(1991) score: 0.7985013\n",
      "4 movie name: Rocketeer,_The_(1991) score: 0.75975585\n",
      "5 movie name: Star_Trek:_First_Contact_(1996) score: 0.7055327\n",
      "6 movie name: Star_Trek:_Insurrection_(1998) score: 0.70361114\n",
      "7 movie name: Fifth_Element,_The_(1997) score: 0.6806074\n",
      "8 movie name: Deep_Impact_(1998) score: 0.68037814\n",
      "9 movie name: Superman_II_(1980) score: 0.6738094\n"
     ]
    }
   ],
   "source": [
    "sf_wv = w2v_model.get_weighted_feature(\n",
    "    {\n",
    "        'Star_Wars:_Episode_IV_-_A_New_Hope_(1977)': 0.3,\n",
    "        'Stargate_(1994)': 0.3,\n",
    "        'Starship_Troopers_(1997)' : 0.3\n",
    "    }\n",
    ")\n",
    "movie_names_to_filter = [\n",
    "    'Star_Wars:_Episode_IV_-_A_New_Hope_(1977)',\n",
    "    'Stargate_(1994)',\n",
    "    'Starship_Troopers_(1997)'\n",
    "] \n",
    "\n",
    "for i, (movie_name, score) in enumerate(w2v_model.most_similar(sf_wv, 10)):\n",
    "    if movie_name in movie_names_to_filter:\n",
    "        continue\n",
    "    print(i, \"movie name:\", movie_name, \"score:\", score)"
   ]
  },
  {
   "cell_type": "markdown",
   "metadata": {},
   "source": [
    "summing three SF movies, namely Star wars, Stargate, and Starship Troopers gives Star Trek!"
   ]
  },
  {
   "cell_type": "markdown",
   "metadata": {},
   "source": [
    "### Arithmetic among features"
   ]
  },
  {
   "cell_type": "code",
   "execution_count": 8,
   "metadata": {},
   "outputs": [],
   "source": [
    "animation_wv = w2v_model.get_weighted_feature(\n",
    "    {\n",
    "        \"Bug's_Life,_A_(1998)\": 1,\n",
    "        'Wallace_&_Gromit:_The_Best_of_Aardman_Animation_(1996)': 1,\n",
    "        'Sleeping_Beauty_(1959)': 1,\n",
    "        'Toy_Story_(1995)': 1,\n",
    "        'South_Park:_Bigger,_Longer_and_Uncut_(1999)': 1,\n",
    "        'Creature_Comforts_(1990)': 1,\n",
    "        'Lion_King,_The_(1994)': 1,\n",
    "        'Mulan_(1998)': 1\n",
    "    }\n",
    ")"
   ]
  },
  {
   "cell_type": "markdown",
   "metadata": {},
   "source": [
    "First we need to sum and normalize vectors of animations."
   ]
  },
  {
   "cell_type": "code",
   "execution_count": 9,
   "metadata": {},
   "outputs": [],
   "source": [
    "drama_wv = w2v_model.get_weighted_feature(\n",
    "    {\n",
    "        'Ben-Hur_(1959)': 0.3,\n",
    "        'Kolya_(1996)' : 0.3,\n",
    "        'Shall_We_Dance?_(Shall_We_Dansu?)_(1996)': 0.3\n",
    "    }\n",
    ")"
   ]
  },
  {
   "cell_type": "markdown",
   "metadata": {},
   "source": [
    "Next we generate weight vector of drama genre by summing vectors of drama movies"
   ]
  },
  {
   "cell_type": "markdown",
   "metadata": {},
   "source": [
    "Then subtract animation weight vector from Toy Story, then add drama vector "
   ]
  },
  {
   "cell_type": "code",
   "execution_count": 10,
   "metadata": {},
   "outputs": [],
   "source": [
    "wv = animation_wv + sf_wv"
   ]
  },
  {
   "cell_type": "code",
   "execution_count": 11,
   "metadata": {},
   "outputs": [
    {
     "name": "stdout",
     "output_type": "stream",
     "text": [
      "0 movie name: Metisse_(Caf_au_Lait)_(1993) score: 0.70677006\n",
      "1 movie name: Mulan_(1998) score: 0.6815622\n",
      "2 movie name: Ghost_in_the_Shell_(Kokaku_kidotai)_(1995) score: 0.6702216\n",
      "3 movie name: Stargate_(1994) score: 0.66783875\n",
      "4 movie name: Starship_Troopers_(1997) score: 0.6632842\n",
      "5 movie name: Star_Trek_VI:_The_Undiscovered_Country_(1991) score: 0.6519709\n",
      "6 movie name: Star_Trek:_Generations_(1994) score: 0.6481054\n",
      "7 movie name: Callejn_de_los_milagros,_El_(1995) score: 0.6469138\n",
      "8 movie name: Lion_King,_The_(1994) score: 0.63585776\n",
      "9 movie name: Loser_(1991) score: 0.6239109\n"
     ]
    }
   ],
   "source": [
    "movie_names_to_filter = [\n",
    "    'Toy_Story_(1995)',\n",
    "    'Ben-Hur_(1959)',\n",
    "    'Kolya_(1996)',\n",
    "    'Shall_We_Dance?_(Shall_We_Dansu?)_(1996)'\n",
    "]\n",
    "\n",
    "for i, (movie_name, score) in enumerate(w2v_model.most_similar(wv, 10)):\n",
    "    if movie_name in movie_names_to_filter:\n",
    "        continue\n",
    "    print(i, \"movie name:\", movie_name, \"score:\", score)"
   ]
  },
  {
   "cell_type": "markdown",
   "metadata": {},
   "source": [
    "We only find that \"Ghost_in_the_Shell_(Kokaku_kidotai)_(1995)\" in the high scored items, which is SF animation.\n",
    "We conjectured that arithmetic operations doesn't work in item recommendation domain."
   ]
  }
 ],
 "metadata": {
  "kernelspec": {
   "display_name": "Python 3",
   "language": "python",
   "name": "python3"
  },
  "language_info": {
   "codemirror_mode": {
    "name": "ipython",
    "version": 3
   },
   "file_extension": ".py",
   "mimetype": "text/x-python",
   "name": "python",
   "nbconvert_exporter": "python",
   "pygments_lexer": "ipython3",
   "version": "3.7.3"
  }
 },
 "nbformat": 4,
 "nbformat_minor": 2
}
