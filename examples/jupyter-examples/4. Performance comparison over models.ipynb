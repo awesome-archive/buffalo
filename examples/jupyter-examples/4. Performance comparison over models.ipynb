{
 "cells": [
  {
   "cell_type": "markdown",
   "metadata": {},
   "source": [
    "## Comparision of models on movielens 1M dataset\n"
   ]
  },
  {
   "cell_type": "code",
   "execution_count": 1,
   "metadata": {},
   "outputs": [],
   "source": [
    "from buffalo.algo.als import ALS\n",
    "from buffalo.algo.bpr import BPRMF\n",
    "from buffalo.algo.cfr import CFR\n",
    "from buffalo.algo.options import ALSOption\n",
    "from buffalo.algo.options import BPRMFOption\n",
    "from buffalo.algo.options import CFROption\n",
    "import buffalo.data\n",
    "from buffalo.data.mm import MatrixMarketOptions\n",
    "from buffalo.data.stream import StreamOptions\n",
    "from buffalo.misc import aux\n",
    "from buffalo.misc import log\n",
    "log.set_log_level(1) # set log level 3 or higher to check more information"
   ]
  },
  {
   "cell_type": "code",
   "execution_count": 2,
   "metadata": {},
   "outputs": [],
   "source": [
    "als_opt = ALSOption().get_default_option()  \n",
    "als_opt.num_workers = 4\n",
    "als_opt.validation = aux.Option({'topk': 10})\n",
    "als_opt.reg_u = 0.06\n",
    "als_opt.reg_i = 0.06\n",
    "\n",
    "bpr_opt = BPRMFOption().get_default_option()\n",
    "bpr_opt.use_bias = False\n",
    "bpr_opt.num_workers = 4\n",
    "bpr_opt.validation = aux.Option({'topk': 10})\n",
    "bpr_opt.reg_u = 0.02\n",
    "bpr_opt.reg_j = bpr_opt.reg_i = 0.02\n",
    "bpr_opt.reg_b = 0.1\n",
    "\n",
    "cfr_opt = CFROption().get_default_option()\n",
    "cfr_opt.num_workers = 4\n",
    "cfr_opt.validation = aux.Option({'topk': 10})\n",
    "cfr_opt.reg_u = 0.06\n",
    "cfr_opt.reg_i = 0.06\n",
    "cfr_opt.reg_c = 0.05"
   ]
  },
  {
   "cell_type": "code",
   "execution_count": 3,
   "metadata": {},
   "outputs": [],
   "source": [
    "data_opt = MatrixMarketOptions().get_default_option()\n",
    "data_opt.input.main = 'data/ml-1m/main.mtx'\n",
    "data_opt.input.iid = 'data/ml-1m/iid'\n",
    "data_opt.input.uid = 'data/ml-1m/uid'\n",
    "data_opt.data.path = '.4_mm.h5py'\n",
    "data_opt.data.validation.p = 0.1\n",
    "data_opt.data.validation.max_samples = 10000"
   ]
  },
  {
   "cell_type": "markdown",
   "metadata": {},
   "source": [
    "To use validation, `opt.validation` must be set like this\n",
    "```python\n",
    "    option.validation = aux.Option({'topk': 10}) # which metric will be used\n",
    "                                                 # if topk is set to be 10, then NDCG@10, MAP@10 is calculated\n",
    "    data_option.data.validation.p # fraction of the validation data\n",
    "    data_option.data.validation.max_samples # the number of maximum validation data\n",
    "```\n",
    "the total number of validation samples is set to be $\\text{min}(\\text{nnz} * p, \\text{max_samples})$"
   ]
  },
  {
   "cell_type": "code",
   "execution_count": 4,
   "metadata": {
    "scrolled": true
   },
   "outputs": [],
   "source": [
    "mm_data = buffalo.data.load(data_opt)\n",
    "mm_data.create()"
   ]
  },
  {
   "cell_type": "code",
   "execution_count": 5,
   "metadata": {},
   "outputs": [],
   "source": [
    "data_opt = StreamOptions().get_default_option()\n",
    "data_opt.data.validation.name = \"sample\"\n",
    "data_opt.data.sppmi = {\"windows\": 5, \"k\": 10}\n",
    "data_opt.input.main = 'data/ml-1m/stream'\n",
    "data_opt.input.uid = 'data/ml-1m/uid'\n",
    "data_opt.input.iid = 'data/ml-1m/iid'\n",
    "data_opt.data.value_prepro = aux.Option({'name': 'OneBased'})\n",
    "data_opt.data.path = '.4_stesam.h5py'\n",
    "data_opt.data.internal_data_type = \"matrix\"\n",
    "data_opt.data.validation.p = 0.1\n",
    "data_opt.data.validation.max_samples = 10000"
   ]
  },
  {
   "cell_type": "code",
   "execution_count": 6,
   "metadata": {},
   "outputs": [],
   "source": [
    "stream_data = buffalo.data.load(data_opt)\n",
    "stream_data.create()"
   ]
  },
  {
   "cell_type": "code",
   "execution_count": 7,
   "metadata": {
    "scrolled": true
   },
   "outputs": [],
   "source": [
    "als = ALS(als_opt, data=mm_data)\n",
    "als.initialize()"
   ]
  },
  {
   "cell_type": "code",
   "execution_count": 8,
   "metadata": {
    "scrolled": true
   },
   "outputs": [],
   "source": [
    "bpr = BPRMF(bpr_opt, data=mm_data)\n",
    "bpr.initialize()"
   ]
  },
  {
   "cell_type": "code",
   "execution_count": 9,
   "metadata": {},
   "outputs": [],
   "source": [
    "cfr = CFR(cfr_opt, data=stream_data)\n",
    "cfr.initialize()"
   ]
  },
  {
   "cell_type": "code",
   "execution_count": 10,
   "metadata": {},
   "outputs": [],
   "source": [
    "als_res = als.train()"
   ]
  },
  {
   "cell_type": "code",
   "execution_count": 11,
   "metadata": {},
   "outputs": [],
   "source": [
    "bpr_res = bpr.train()"
   ]
  },
  {
   "cell_type": "code",
   "execution_count": 12,
   "metadata": {},
   "outputs": [],
   "source": [
    "cfr_res = cfr.train()"
   ]
  },
  {
   "cell_type": "code",
   "execution_count": 13,
   "metadata": {},
   "outputs": [
    {
     "data": {
      "text/plain": [
       "{'train_loss': 0.0,\n",
       " 'vali_ndcg': 0.10699514576320421,\n",
       " 'vali_map': 0.06417434804366856,\n",
       " 'vali_accuracy': 0.16763943065105189,\n",
       " 'vali_rmse': 0.3810662058383934,\n",
       " 'vali_error': 0.2963493851780891}"
      ]
     },
     "execution_count": 13,
     "metadata": {},
     "output_type": "execute_result"
    }
   ],
   "source": [
    "cfr_res"
   ]
  },
  {
   "cell_type": "code",
   "execution_count": 14,
   "metadata": {},
   "outputs": [
    {
     "data": {
      "text/plain": [
       "{'train_loss': 0.2806028804154141,\n",
       " 'val_ndcg': 0.08137682343853958,\n",
       " 'val_map': 0.04811094610256136,\n",
       " 'val_accuracy': 0.13730048306770012,\n",
       " 'val_rmse': 2.9210035418392146,\n",
       " 'val_error': 2.7068358163237574}"
      ]
     },
     "execution_count": 14,
     "metadata": {},
     "output_type": "execute_result"
    }
   ],
   "source": [
    "als_res"
   ]
  },
  {
   "cell_type": "code",
   "execution_count": 15,
   "metadata": {},
   "outputs": [
    {
     "data": {
      "text/plain": [
       "{'train_loss': 0.0,\n",
       " 'val_ndcg': 0.05350434864011935,\n",
       " 'val_map': 0.032103983029096554,\n",
       " 'val_accuracy': 0.07715742633439586,\n",
       " 'val_rmse': 2.788766983419126,\n",
       " 'val_error': 2.520328412902355}"
      ]
     },
     "execution_count": 15,
     "metadata": {},
     "output_type": "execute_result"
    }
   ],
   "source": [
    "bpr_res"
   ]
  }
 ],
 "metadata": {
  "kernelspec": {
   "display_name": "Python 3",
   "language": "python",
   "name": "python3"
  },
  "language_info": {
   "codemirror_mode": {
    "name": "ipython",
    "version": 3
   },
   "file_extension": ".py",
   "mimetype": "text/x-python",
   "name": "python",
   "nbconvert_exporter": "python",
   "pygments_lexer": "ipython3",
   "version": "3.7.3"
  }
 },
 "nbformat": 4,
 "nbformat_minor": 2
}
